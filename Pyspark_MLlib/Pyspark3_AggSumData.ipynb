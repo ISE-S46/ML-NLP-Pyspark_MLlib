{
  "nbformat": 4,
  "nbformat_minor": 0,
  "metadata": {
    "colab": {
      "provenance": []
    },
    "kernelspec": {
      "name": "python3",
      "display_name": "Python 3"
    },
    "language_info": {
      "name": "python"
    }
  },
  "cells": [
    {
      "cell_type": "markdown",
      "source": [
        "## Aggregating and Summarizing Data"
      ],
      "metadata": {
        "id": "ETWKcW_i1_D3"
      }
    },
    {
      "cell_type": "markdown",
      "source": [
        "### Example of Aggregate Functions"
      ],
      "metadata": {
        "id": "BVlOLGe02FTu"
      }
    },
    {
      "cell_type": "code",
      "execution_count": 1,
      "metadata": {
        "colab": {
          "base_uri": "https://localhost:8080/"
        },
        "id": "TVK-1dVlG7sk",
        "outputId": "5be4402c-e76a-4853-e120-d8ca9422e494"
      },
      "outputs": [
        {
          "output_type": "stream",
          "name": "stdout",
          "text": [
            "+---+-----+-----+\n",
            "| id|group|value|\n",
            "+---+-----+-----+\n",
            "|  1|    A|  100|\n",
            "|  2|    A|  200|\n",
            "|  3|    B|  300|\n",
            "|  4|    B|  400|\n",
            "+---+-----+-----+\n",
            "\n"
          ]
        }
      ],
      "source": [
        "from pyspark.sql import SparkSession\n",
        "from pyspark.sql.functions import col, sum, avg, min, max, count\n",
        "spark = SparkSession.builder.appName(\"AggregationExample\").getOrCreate()\n",
        "data = [(1, \"A\", 100), (2, \"A\", 200), (3, \"B\", 300), (4, \"B\", 400)]\n",
        "df = spark.createDataFrame(data, [\"id\", \"group\", \"value\"])\n",
        "df.show()"
      ]
    },
    {
      "cell_type": "markdown",
      "source": [
        "#### groupBy"
      ],
      "metadata": {
        "id": "6xNmUkF02Lye"
      }
    },
    {
      "cell_type": "code",
      "source": [
        "df.groupBy(\"group\") #object"
      ],
      "metadata": {
        "colab": {
          "base_uri": "https://localhost:8080/"
        },
        "id": "ufyZ5OiMMxi0",
        "outputId": "110d4fc2-4562-49e9-eb8e-618a91c42ca9"
      },
      "execution_count": 2,
      "outputs": [
        {
          "output_type": "execute_result",
          "data": {
            "text/plain": [
              "GroupedData[grouping expressions: [group], value: [id: bigint, group: string ... 1 more field], type: GroupBy]"
            ]
          },
          "metadata": {},
          "execution_count": 2
        }
      ]
    },
    {
      "cell_type": "markdown",
      "source": [
        "Member in each group"
      ],
      "metadata": {
        "id": "d5QA6Z4F2SQz"
      }
    },
    {
      "cell_type": "code",
      "source": [
        "from pyspark.sql.functions import collect_list\n",
        "\n",
        "df.groupBy(\"group\").agg(collect_list(\"id\").alias(\"ids_in_group\")).show"
      ],
      "metadata": {
        "colab": {
          "base_uri": "https://localhost:8080/",
          "height": 187
        },
        "id": "k7trGjZRM3lg",
        "outputId": "a6b18edf-9269-4d93-cf8d-f83bcfa01ea5"
      },
      "execution_count": 3,
      "outputs": [
        {
          "output_type": "execute_result",
          "data": {
            "text/plain": [
              "<bound method DataFrame.show of DataFrame[group: string, ids_in_group: array<bigint>]>"
            ],
            "text/html": [
              "<div style=\"max-width:800px; border: 1px solid var(--colab-border-color);\"><style>\n",
              "      pre.function-repr-contents {\n",
              "        overflow-x: auto;\n",
              "        padding: 8px 12px;\n",
              "        max-height: 500px;\n",
              "      }\n",
              "\n",
              "      pre.function-repr-contents.function-repr-contents-collapsed {\n",
              "        cursor: pointer;\n",
              "        max-height: 100px;\n",
              "      }\n",
              "    </style>\n",
              "    <pre style=\"white-space: initial; background:\n",
              "         var(--colab-secondary-surface-color); padding: 8px 12px;\n",
              "         border-bottom: 1px solid var(--colab-border-color);\"><b>pyspark.sql.dataframe.DataFrame.show</b><br/>def show(n: int=20, truncate: Union[bool, int]=True, vertical: bool=False) -&gt; None</pre><pre class=\"function-repr-contents function-repr-contents-collapsed\" style=\"\"><a class=\"filepath\" style=\"display:none\" href=\"#\">/usr/local/lib/python3.11/dist-packages/pyspark/sql/dataframe.py</a>Prints the first ``n`` rows to the console.\n",
              "\n",
              ".. versionadded:: 1.3.0\n",
              "\n",
              ".. versionchanged:: 3.4.0\n",
              "    Supports Spark Connect.\n",
              "\n",
              "Parameters\n",
              "----------\n",
              "n : int, optional\n",
              "    Number of rows to show.\n",
              "truncate : bool or int, optional\n",
              "    If set to ``True``, truncate strings longer than 20 chars by default.\n",
              "    If set to a number greater than one, truncates long strings to length ``truncate``\n",
              "    and align cells right.\n",
              "vertical : bool, optional\n",
              "    If set to ``True``, print output rows vertically (one line\n",
              "    per column value).\n",
              "\n",
              "Examples\n",
              "--------\n",
              "&gt;&gt;&gt; df = spark.createDataFrame([\n",
              "...     (14, &quot;Tom&quot;), (23, &quot;Alice&quot;), (16, &quot;Bob&quot;)], [&quot;age&quot;, &quot;name&quot;])\n",
              "\n",
              "Show only top 2 rows.\n",
              "\n",
              "&gt;&gt;&gt; df.show(2)\n",
              "+---+-----+\n",
              "|age| name|\n",
              "+---+-----+\n",
              "| 14|  Tom|\n",
              "| 23|Alice|\n",
              "+---+-----+\n",
              "only showing top 2 rows\n",
              "\n",
              "Show :class:`DataFrame` where the maximum number of characters is 3.\n",
              "\n",
              "&gt;&gt;&gt; df.show(truncate=3)\n",
              "+---+----+\n",
              "|age|name|\n",
              "+---+----+\n",
              "| 14| Tom|\n",
              "| 23| Ali|\n",
              "| 16| Bob|\n",
              "+---+----+\n",
              "\n",
              "Show :class:`DataFrame` vertically.\n",
              "\n",
              "&gt;&gt;&gt; df.show(vertical=True)\n",
              "-RECORD 0-----\n",
              "age  | 14\n",
              "name | Tom\n",
              "-RECORD 1-----\n",
              "age  | 23\n",
              "name | Alice\n",
              "-RECORD 2-----\n",
              "age  | 16\n",
              "name | Bob</pre>\n",
              "      <script>\n",
              "      if (google.colab.kernel.accessAllowed && google.colab.files && google.colab.files.view) {\n",
              "        for (const element of document.querySelectorAll('.filepath')) {\n",
              "          element.style.display = 'block'\n",
              "          element.onclick = (event) => {\n",
              "            event.preventDefault();\n",
              "            event.stopPropagation();\n",
              "            google.colab.files.view(element.textContent, 887);\n",
              "          };\n",
              "        }\n",
              "      }\n",
              "      for (const element of document.querySelectorAll('.function-repr-contents')) {\n",
              "        element.onclick = (event) => {\n",
              "          event.preventDefault();\n",
              "          event.stopPropagation();\n",
              "          element.classList.toggle('function-repr-contents-collapsed');\n",
              "        };\n",
              "      }\n",
              "      </script>\n",
              "      </div>"
            ]
          },
          "metadata": {},
          "execution_count": 3
        }
      ]
    },
    {
      "cell_type": "markdown",
      "source": [
        "#### Alias"
      ],
      "metadata": {
        "id": "za9JLBnf2ZnP"
      }
    },
    {
      "cell_type": "code",
      "source": [
        "result = df.groupBy(\"group\").agg(count(\"*\"))\n",
        "result.show()"
      ],
      "metadata": {
        "colab": {
          "base_uri": "https://localhost:8080/"
        },
        "id": "GrEG-wD3M9pv",
        "outputId": "7b431dd2-8d69-4361-801c-9de20c374cee"
      },
      "execution_count": 4,
      "outputs": [
        {
          "output_type": "stream",
          "name": "stdout",
          "text": [
            "+-----+--------+\n",
            "|group|count(1)|\n",
            "+-----+--------+\n",
            "|    A|       2|\n",
            "|    B|       2|\n",
            "+-----+--------+\n",
            "\n"
          ]
        }
      ]
    },
    {
      "cell_type": "code",
      "source": [
        "result = df.groupBy(\"group\").agg(count(\"*\").alias(\"count members in each group\"))\n",
        "result.show()"
      ],
      "metadata": {
        "colab": {
          "base_uri": "https://localhost:8080/"
        },
        "id": "kBeF4ohzU6aF",
        "outputId": "d39e8a93-7bdc-43d0-bdcd-ce8855306386"
      },
      "execution_count": 5,
      "outputs": [
        {
          "output_type": "stream",
          "name": "stdout",
          "text": [
            "+-----+---------------------------+\n",
            "|group|count members in each group|\n",
            "+-----+---------------------------+\n",
            "|    A|                          2|\n",
            "|    B|                          2|\n",
            "+-----+---------------------------+\n",
            "\n"
          ]
        }
      ]
    },
    {
      "cell_type": "markdown",
      "source": [
        "#### groupBy and agg"
      ],
      "metadata": {
        "id": "xKbPwCjO22-6"
      }
    },
    {
      "cell_type": "code",
      "source": [
        "result = df.groupBy(\"group\").agg(\n",
        "count(\"*\").alias(\"count\"),\n",
        "sum(\"value\").alias(\"sum\"),\n",
        "avg(\"value\").alias(\"avg\"),\n",
        "min(\"value\").alias(\"min\"),\n",
        "max(\"value\").alias(\"max\")\n",
        ")\n",
        "result.show()"
      ],
      "metadata": {
        "colab": {
          "base_uri": "https://localhost:8080/"
        },
        "id": "7UxuBHSUU9F0",
        "outputId": "ff014355-6aaa-44d5-9e47-b761c139943e"
      },
      "execution_count": 6,
      "outputs": [
        {
          "output_type": "stream",
          "name": "stdout",
          "text": [
            "+-----+-----+---+-----+---+---+\n",
            "|group|count|sum|  avg|min|max|\n",
            "+-----+-----+---+-----+---+---+\n",
            "|    A|    2|300|150.0|100|200|\n",
            "|    B|    2|700|350.0|300|400|\n",
            "+-----+-----+---+-----+---+---+\n",
            "\n"
          ]
        }
      ]
    },
    {
      "cell_type": "markdown",
      "source": [
        "#### col"
      ],
      "metadata": {
        "id": "zNYm9zRj27a9"
      }
    },
    {
      "cell_type": "code",
      "source": [
        "# Select columns using col\n",
        "df.select(col(\"id\"), col(\"value\")).show()"
      ],
      "metadata": {
        "colab": {
          "base_uri": "https://localhost:8080/"
        },
        "id": "_vwtHMzKYnBu",
        "outputId": "a94fe492-3efe-4147-fc50-92f073ac068e"
      },
      "execution_count": null,
      "outputs": [
        {
          "output_type": "stream",
          "name": "stdout",
          "text": [
            "+---+-----+\n",
            "| id|value|\n",
            "+---+-----+\n",
            "|  1|  100|\n",
            "|  2|  200|\n",
            "|  3|  300|\n",
            "|  4|  400|\n",
            "+---+-----+\n",
            "\n"
          ]
        }
      ]
    },
    {
      "cell_type": "markdown",
      "source": [
        "#### Column transformation"
      ],
      "metadata": {
        "id": "RNDHdtdY3Ghf"
      }
    },
    {
      "cell_type": "code",
      "source": [
        "# Multiply the value column by 2\n",
        "df.withColumn(\"double_value\", col(\"value\") * 2).show()"
      ],
      "metadata": {
        "colab": {
          "base_uri": "https://localhost:8080/"
        },
        "id": "iaZh6pNPZO5-",
        "outputId": "9fc2526a-fa28-4e76-f1bb-ece8e2792759"
      },
      "execution_count": null,
      "outputs": [
        {
          "output_type": "stream",
          "name": "stdout",
          "text": [
            "+---+-----+-----+------------+\n",
            "| id|group|value|double_value|\n",
            "+---+-----+-----+------------+\n",
            "|  1|    A|  100|         200|\n",
            "|  2|    A|  200|         400|\n",
            "|  3|    B|  300|         600|\n",
            "|  4|    B|  400|         800|\n",
            "+---+-----+-----+------------+\n",
            "\n"
          ]
        }
      ]
    },
    {
      "cell_type": "markdown",
      "source": [
        "#### Filtering Rows"
      ],
      "metadata": {
        "id": "3mXk0xSn3Y4w"
      }
    },
    {
      "cell_type": "code",
      "source": [
        "# Filter rows where value > 100\n",
        "df.filter(col(\"value\") > 100).show()"
      ],
      "metadata": {
        "colab": {
          "base_uri": "https://localhost:8080/"
        },
        "id": "ORxjkD6FZRR8",
        "outputId": "a9679e9e-727e-4eda-d66f-579c7443b9f6"
      },
      "execution_count": null,
      "outputs": [
        {
          "output_type": "stream",
          "name": "stdout",
          "text": [
            "+---+-----+-----+\n",
            "| id|group|value|\n",
            "+---+-----+-----+\n",
            "|  2|    A|  200|\n",
            "|  3|    B|  300|\n",
            "|  4|    B|  400|\n",
            "+---+-----+-----+\n",
            "\n"
          ]
        }
      ]
    },
    {
      "cell_type": "code",
      "source": [
        "spark.stop()"
      ],
      "metadata": {
        "id": "KL0yjXfsZUny"
      },
      "execution_count": null,
      "outputs": []
    },
    {
      "cell_type": "markdown",
      "source": [
        "### sale_info.csv"
      ],
      "metadata": {
        "id": "7qPYfG5h3dWe"
      }
    },
    {
      "cell_type": "markdown",
      "source": [
        "**sales_info.csv**\n",
        "\n",
        "- Company: Represents the name of the company.\n",
        "Example values: GOOG, MSFT, FB, APPL.\n",
        "- Person:\n",
        "Indicates the individual associated with the sales transaction.\n",
        "Example values: Sam, Charlie, Linda.\n",
        "- Sales:\n",
        "A numeric value representing the amount of sales made by the respective person.\n",
        "Example values: 200.0, 600.0, 750.0.\n",
        "\n",
        "      +-------+-------+-----+\n",
        "      |Company| Person|Sales|\n",
        "      +-------+-------+-----+\n",
        "      |   GOOG|    Sam|200.0|\n",
        "      |   GOOG|Charlie|120.0|\n",
        "      |   GOOG|  Frank|340.0|\n",
        "      |   MSFT|   Tina|600.0|\n",
        "      |   MSFT|    Amy|124.0|\n",
        "      |   MSFT|Vanessa|243.0|\n",
        "      |     FB|   Carl|870.0|\n",
        "      |     FB|  Sarah|350.0|\n",
        "      |   APPL|   John|250.0|\n",
        "      |   APPL|  Linda|130.0|\n",
        "      |   APPL|   Mike|750.0|\n",
        "      |   APPL|  Chris|350.0|\n",
        "      +-------+-------+-----+\n"
      ],
      "metadata": {
        "id": "FXRNoNZ24kfp"
      }
    },
    {
      "cell_type": "markdown",
      "source": [
        "#### Load the Data from the URL"
      ],
      "metadata": {
        "id": "vK-SDuAX35ne"
      }
    },
    {
      "cell_type": "code",
      "source": [
        "import os\n",
        "import requests\n",
        "from pyspark.sql import SparkSession\n",
        "\n",
        "# Initialize Spark session\n",
        "spark = SparkSession.builder.appName(\"LoadDataFromURL\").getOrCreate()\n",
        "\n",
        "# Define the URL and the local file path\n",
        "url = \"https://raw.githubusercontent.com/oakabc/DEA/main/6%20-%20Aggregating%20and%20Summarizing%20Data/sales_info.csv\"\n",
        "local_file = \"sales_info.csv\""
      ],
      "metadata": {
        "id": "0OAfFDF5ZWSm"
      },
      "execution_count": 7,
      "outputs": []
    },
    {
      "cell_type": "markdown",
      "source": [
        "#### Download the file"
      ],
      "metadata": {
        "id": "PBm-eUVB3_9e"
      }
    },
    {
      "cell_type": "code",
      "source": [
        "# Download the file\n",
        "response = requests.get(url)\n",
        "if response.status_code == 200:\n",
        "   with open(local_file, \"wb\") as f:\n",
        "       f.write(response.content)\n",
        "   print(f\"File downloaded as {local_file}\")\n",
        "else:\n",
        "   print(\"Failed to download the file\")"
      ],
      "metadata": {
        "colab": {
          "base_uri": "https://localhost:8080/"
        },
        "id": "5jJdSfmwZnHZ",
        "outputId": "8e38d52d-cada-4160-9ab4-e0a94967f28c"
      },
      "execution_count": 8,
      "outputs": [
        {
          "output_type": "stream",
          "name": "stdout",
          "text": [
            "File downloaded as sales_info.csv\n"
          ]
        }
      ]
    },
    {
      "cell_type": "markdown",
      "source": [
        "#### Load and Show DataFrame"
      ],
      "metadata": {
        "id": "XDyIKc-Z4FAm"
      }
    },
    {
      "cell_type": "code",
      "source": [
        "# Load the CSV file into PySpark DataFrame\n",
        "df = spark.read.csv(local_file, header=True, inferSchema=True) # local_file = \"sales_info.csv\"\n",
        "\n",
        "# Show the DataFrame\n",
        "df.show()"
      ],
      "metadata": {
        "colab": {
          "base_uri": "https://localhost:8080/"
        },
        "id": "FvYXm0eiaBQV",
        "outputId": "7abcebe4-21c5-46ca-8eb2-ea04f13d1323"
      },
      "execution_count": 9,
      "outputs": [
        {
          "output_type": "stream",
          "name": "stdout",
          "text": [
            "+-------+-------+-----+\n",
            "|Company| Person|Sales|\n",
            "+-------+-------+-----+\n",
            "|   GOOG|    Sam|200.0|\n",
            "|   GOOG|Charlie|120.0|\n",
            "|   GOOG|  Frank|340.0|\n",
            "|   MSFT|   Tina|600.0|\n",
            "|   MSFT|    Amy|124.0|\n",
            "|   MSFT|Vanessa|243.0|\n",
            "|     FB|   Carl|870.0|\n",
            "|     FB|  Sarah|350.0|\n",
            "|   APPL|   John|250.0|\n",
            "|   APPL|  Linda|130.0|\n",
            "|   APPL|   Mike|750.0|\n",
            "|   APPL|  Chris|350.0|\n",
            "+-------+-------+-----+\n",
            "\n"
          ]
        }
      ]
    },
    {
      "cell_type": "markdown",
      "source": [
        "printSchema"
      ],
      "metadata": {
        "id": "bBj4hMuV5AF3"
      }
    },
    {
      "cell_type": "code",
      "source": [
        "df.printSchema()"
      ],
      "metadata": {
        "colab": {
          "base_uri": "https://localhost:8080/"
        },
        "id": "6O5BnUPuaVUw",
        "outputId": "b92b2520-0bcc-476e-8932-d03cb3584637"
      },
      "execution_count": 10,
      "outputs": [
        {
          "output_type": "stream",
          "name": "stdout",
          "text": [
            "root\n",
            " |-- Company: string (nullable = true)\n",
            " |-- Person: string (nullable = true)\n",
            " |-- Sales: double (nullable = true)\n",
            "\n"
          ]
        }
      ]
    },
    {
      "cell_type": "markdown",
      "source": [
        "Using groupBy"
      ],
      "metadata": {
        "id": "COS1DSzM5CZc"
      }
    },
    {
      "cell_type": "code",
      "source": [
        "df.groupBy(\"Company\") # Object: GroupedData[grouping expressions: [Company], value: [Company: string, Person: string ... 1 more field], type: GroupBy]"
      ],
      "metadata": {
        "colab": {
          "base_uri": "https://localhost:8080/"
        },
        "id": "-F1G1AXbaZnN",
        "outputId": "60569b9f-29ad-4244-f0f0-a1989e548b6d"
      },
      "execution_count": 11,
      "outputs": [
        {
          "output_type": "execute_result",
          "data": {
            "text/plain": [
              "GroupedData[grouping expressions: [Company], value: [Company: string, Person: string ... 1 more field], type: GroupBy]"
            ]
          },
          "metadata": {},
          "execution_count": 11
        }
      ]
    },
    {
      "cell_type": "markdown",
      "source": [
        "#### Using groupBy and then aggregate function"
      ],
      "metadata": {
        "id": "6zRhsuCE5bdF"
      }
    },
    {
      "cell_type": "markdown",
      "source": [
        "mean"
      ],
      "metadata": {
        "id": "2HmEkX9Q5MOv"
      }
    },
    {
      "cell_type": "code",
      "source": [
        "df.groupBy(\"Company\").mean().show()"
      ],
      "metadata": {
        "colab": {
          "base_uri": "https://localhost:8080/"
        },
        "id": "loipvai-adJz",
        "outputId": "a884e523-d162-4d48-ddec-9808ee59c775"
      },
      "execution_count": 12,
      "outputs": [
        {
          "output_type": "stream",
          "name": "stdout",
          "text": [
            "+-------+-----------------+\n",
            "|Company|       avg(Sales)|\n",
            "+-------+-----------------+\n",
            "|   APPL|            370.0|\n",
            "|   GOOG|            220.0|\n",
            "|     FB|            610.0|\n",
            "|   MSFT|322.3333333333333|\n",
            "+-------+-----------------+\n",
            "\n"
          ]
        }
      ]
    },
    {
      "cell_type": "markdown",
      "source": [
        "sum"
      ],
      "metadata": {
        "id": "TaKdSIi95Mz2"
      }
    },
    {
      "cell_type": "code",
      "source": [
        "df.groupBy(\"Company\").sum().show()"
      ],
      "metadata": {
        "colab": {
          "base_uri": "https://localhost:8080/"
        },
        "id": "SZbJ-1MIanHA",
        "outputId": "c545ae98-3258-45af-d263-f80bb39440ca"
      },
      "execution_count": 13,
      "outputs": [
        {
          "output_type": "stream",
          "name": "stdout",
          "text": [
            "+-------+----------+\n",
            "|Company|sum(Sales)|\n",
            "+-------+----------+\n",
            "|   APPL|    1480.0|\n",
            "|   GOOG|     660.0|\n",
            "|     FB|    1220.0|\n",
            "|   MSFT|     967.0|\n",
            "+-------+----------+\n",
            "\n"
          ]
        }
      ]
    },
    {
      "cell_type": "markdown",
      "source": [
        "max"
      ],
      "metadata": {
        "id": "x8Ljd-OT5P2w"
      }
    },
    {
      "cell_type": "code",
      "source": [
        "df.groupBy(\"Company\").max().show()"
      ],
      "metadata": {
        "colab": {
          "base_uri": "https://localhost:8080/"
        },
        "id": "-mp27pG8auTh",
        "outputId": "70236127-40d8-4ae2-be81-615d69fc7150"
      },
      "execution_count": 14,
      "outputs": [
        {
          "output_type": "stream",
          "name": "stdout",
          "text": [
            "+-------+----------+\n",
            "|Company|max(Sales)|\n",
            "+-------+----------+\n",
            "|   APPL|     750.0|\n",
            "|   GOOG|     340.0|\n",
            "|     FB|     870.0|\n",
            "|   MSFT|     600.0|\n",
            "+-------+----------+\n",
            "\n"
          ]
        }
      ]
    },
    {
      "cell_type": "markdown",
      "source": [
        "min"
      ],
      "metadata": {
        "id": "7wsxtatV5RQR"
      }
    },
    {
      "cell_type": "code",
      "source": [
        "df.groupBy(\"Company\").min().show()"
      ],
      "metadata": {
        "colab": {
          "base_uri": "https://localhost:8080/"
        },
        "id": "jtFK6KKra2Kj",
        "outputId": "dc44c3a9-f24e-48d7-a12d-f7df65498196"
      },
      "execution_count": 15,
      "outputs": [
        {
          "output_type": "stream",
          "name": "stdout",
          "text": [
            "+-------+----------+\n",
            "|Company|min(Sales)|\n",
            "+-------+----------+\n",
            "|   APPL|     130.0|\n",
            "|   GOOG|     120.0|\n",
            "|     FB|     350.0|\n",
            "|   MSFT|     124.0|\n",
            "+-------+----------+\n",
            "\n"
          ]
        }
      ]
    },
    {
      "cell_type": "markdown",
      "source": [
        "count"
      ],
      "metadata": {
        "id": "VikZdMiv5Vnn"
      }
    },
    {
      "cell_type": "code",
      "source": [
        "df.groupBy(\"Company\").count().show()"
      ],
      "metadata": {
        "colab": {
          "base_uri": "https://localhost:8080/"
        },
        "id": "s7O1UvyNa4nk",
        "outputId": "6d50751a-3a66-4a51-a569-8bceb18a32d2"
      },
      "execution_count": 16,
      "outputs": [
        {
          "output_type": "stream",
          "name": "stdout",
          "text": [
            "+-------+-----+\n",
            "|Company|count|\n",
            "+-------+-----+\n",
            "|   APPL|    4|\n",
            "|   GOOG|    3|\n",
            "|     FB|    2|\n",
            "|   MSFT|    3|\n",
            "+-------+-----+\n",
            "\n"
          ]
        }
      ]
    },
    {
      "cell_type": "markdown",
      "source": [
        "#### Using agg"
      ],
      "metadata": {
        "id": "bcyY33YM5efz"
      }
    },
    {
      "cell_type": "markdown",
      "source": [
        "sum"
      ],
      "metadata": {
        "id": "Vi1N0Dww5kEu"
      }
    },
    {
      "cell_type": "code",
      "source": [
        "df.agg({'Sales':'sum'}).show()"
      ],
      "metadata": {
        "colab": {
          "base_uri": "https://localhost:8080/"
        },
        "id": "42Ip04rJa-_S",
        "outputId": "d245ec3b-55e2-4151-e42e-1ed28a389bf4"
      },
      "execution_count": 17,
      "outputs": [
        {
          "output_type": "stream",
          "name": "stdout",
          "text": [
            "+----------+\n",
            "|sum(Sales)|\n",
            "+----------+\n",
            "|    4327.0|\n",
            "+----------+\n",
            "\n"
          ]
        }
      ]
    },
    {
      "cell_type": "markdown",
      "source": [
        "max"
      ],
      "metadata": {
        "id": "_-17vN9-5l5n"
      }
    },
    {
      "cell_type": "code",
      "source": [
        "df.agg({'Sales':'max'}).show()"
      ],
      "metadata": {
        "colab": {
          "base_uri": "https://localhost:8080/"
        },
        "id": "ulN-cVcpbFA3",
        "outputId": "fd5cc155-9089-4ab3-ef8f-af7e794b79eb"
      },
      "execution_count": 18,
      "outputs": [
        {
          "output_type": "stream",
          "name": "stdout",
          "text": [
            "+----------+\n",
            "|max(Sales)|\n",
            "+----------+\n",
            "|     870.0|\n",
            "+----------+\n",
            "\n"
          ]
        }
      ]
    },
    {
      "cell_type": "markdown",
      "source": [
        "groupBy then agg"
      ],
      "metadata": {
        "id": "z0O5L1tx6jKg"
      }
    },
    {
      "cell_type": "code",
      "source": [
        "group_data = df.groupBy(\"Company\")\n",
        "group_data.agg({'Sales':'max'}).show()"
      ],
      "metadata": {
        "colab": {
          "base_uri": "https://localhost:8080/"
        },
        "id": "-lIbVPv4bHtG",
        "outputId": "4f487b6e-72b5-43f9-b7ba-7759e4baf57a"
      },
      "execution_count": 19,
      "outputs": [
        {
          "output_type": "stream",
          "name": "stdout",
          "text": [
            "+-------+----------+\n",
            "|Company|max(Sales)|\n",
            "+-------+----------+\n",
            "|   APPL|     750.0|\n",
            "|   GOOG|     340.0|\n",
            "|     FB|     870.0|\n",
            "|   MSFT|     600.0|\n",
            "+-------+----------+\n",
            "\n"
          ]
        }
      ]
    },
    {
      "cell_type": "markdown",
      "source": [
        "#### Import more functions from PySpark"
      ],
      "metadata": {
        "id": "wGiwAcS46pOk"
      }
    },
    {
      "cell_type": "markdown",
      "source": [
        "countDistinct"
      ],
      "metadata": {
        "id": "gBAh_ATv6wvM"
      }
    },
    {
      "cell_type": "code",
      "source": [
        "from pyspark.sql.functions import avg, stddev, countDistinct\n",
        "# How many companies are there ?\n",
        "df.select(countDistinct('Company')).show()"
      ],
      "metadata": {
        "colab": {
          "base_uri": "https://localhost:8080/"
        },
        "id": "Gaa4C-UicLmn",
        "outputId": "b395adf3-0ef4-48b4-f50c-55dab1b1a7ec"
      },
      "execution_count": 20,
      "outputs": [
        {
          "output_type": "stream",
          "name": "stdout",
          "text": [
            "+-----------------------+\n",
            "|count(DISTINCT Company)|\n",
            "+-----------------------+\n",
            "|                      4|\n",
            "+-----------------------+\n",
            "\n"
          ]
        }
      ]
    },
    {
      "cell_type": "code",
      "source": [
        "# Change alias\n",
        "df.select(countDistinct('Company').alias('num_company')).show()"
      ],
      "metadata": {
        "colab": {
          "base_uri": "https://localhost:8080/"
        },
        "id": "H1jNos8vdhjX",
        "outputId": "e94cafe8-d6f0-4dd7-8e16-698307d52f5c"
      },
      "execution_count": 21,
      "outputs": [
        {
          "output_type": "stream",
          "name": "stdout",
          "text": [
            "+-----------+\n",
            "|num_company|\n",
            "+-----------+\n",
            "|          4|\n",
            "+-----------+\n",
            "\n"
          ]
        }
      ]
    },
    {
      "cell_type": "markdown",
      "source": [
        "avg = mean"
      ],
      "metadata": {
        "id": "EEcpq24E62tE"
      }
    },
    {
      "cell_type": "code",
      "source": [
        "df.select(avg('sales')).show()"
      ],
      "metadata": {
        "colab": {
          "base_uri": "https://localhost:8080/"
        },
        "id": "eMN-tWQpfig5",
        "outputId": "6e41faf2-e484-480c-86b4-044cc47a709a"
      },
      "execution_count": 22,
      "outputs": [
        {
          "output_type": "stream",
          "name": "stdout",
          "text": [
            "+-----------------+\n",
            "|       avg(sales)|\n",
            "+-----------------+\n",
            "|360.5833333333333|\n",
            "+-----------------+\n",
            "\n"
          ]
        }
      ]
    },
    {
      "cell_type": "markdown",
      "source": [
        "Using Alias"
      ],
      "metadata": {
        "id": "OdacDke665Ng"
      }
    },
    {
      "cell_type": "code",
      "source": [
        "df.select(avg('sales').alias('sales on average')).show()"
      ],
      "metadata": {
        "colab": {
          "base_uri": "https://localhost:8080/"
        },
        "id": "hbbhBaWVfm8T",
        "outputId": "8e04d9ef-4f8c-434a-ba98-6d08abe824d7"
      },
      "execution_count": 23,
      "outputs": [
        {
          "output_type": "stream",
          "name": "stdout",
          "text": [
            "+-----------------+\n",
            "| sales on average|\n",
            "+-----------------+\n",
            "|360.5833333333333|\n",
            "+-----------------+\n",
            "\n"
          ]
        }
      ]
    },
    {
      "cell_type": "markdown",
      "source": [
        "**stddev**\n",
        "\n",
        "function calculates the standard deviation of a column, which is a measure of the dispersion or spread of data values around the mean."
      ],
      "metadata": {
        "id": "n7WFmsdH6-jo"
      }
    },
    {
      "cell_type": "code",
      "source": [
        "df.select(stddev('Sales')).show()"
      ],
      "metadata": {
        "colab": {
          "base_uri": "https://localhost:8080/"
        },
        "id": "aSoAkGVvfw8r",
        "outputId": "40ed06f7-91ae-422e-f464-b096ad91b0d4"
      },
      "execution_count": 24,
      "outputs": [
        {
          "output_type": "stream",
          "name": "stdout",
          "text": [
            "+------------------+\n",
            "|     stddev(Sales)|\n",
            "+------------------+\n",
            "|250.08742410799007|\n",
            "+------------------+\n",
            "\n"
          ]
        }
      ]
    },
    {
      "cell_type": "markdown",
      "source": [
        "groupBy then stddev"
      ],
      "metadata": {
        "id": "rwWogRSl7Ffl"
      }
    },
    {
      "cell_type": "code",
      "source": [
        "group_data = df.groupBy(\"Company\")\n",
        "group_data.agg({'Sales':'stddev'}).show()"
      ],
      "metadata": {
        "colab": {
          "base_uri": "https://localhost:8080/"
        },
        "id": "0TMXxtQagYI3",
        "outputId": "acdeee02-74a3-42ba-ffbf-f7969c6aca49"
      },
      "execution_count": 25,
      "outputs": [
        {
          "output_type": "stream",
          "name": "stdout",
          "text": [
            "+-------+------------------+\n",
            "|Company|     stddev(Sales)|\n",
            "+-------+------------------+\n",
            "|   APPL|268.82460204874604|\n",
            "|   GOOG|111.35528725660043|\n",
            "|     FB| 367.6955262170047|\n",
            "|   MSFT| 247.7182539364698|\n",
            "+-------+------------------+\n",
            "\n"
          ]
        }
      ]
    },
    {
      "cell_type": "markdown",
      "source": [
        "Formatting numbers"
      ],
      "metadata": {
        "id": "sUXvRiDW7IfO"
      }
    },
    {
      "cell_type": "code",
      "source": [
        "from pyspark.sql.functions import format_number\n",
        "sales_std = df.select(stddev('Sales').alias('std'))\n",
        "sales_std.select(format_number('std',2).alias('std')).show()"
      ],
      "metadata": {
        "colab": {
          "base_uri": "https://localhost:8080/"
        },
        "id": "_hqWUELpgj6B",
        "outputId": "3fab6144-2f72-4205-b28a-7e1fa31fb886"
      },
      "execution_count": 26,
      "outputs": [
        {
          "output_type": "stream",
          "name": "stdout",
          "text": [
            "+------+\n",
            "|   std|\n",
            "+------+\n",
            "|250.09|\n",
            "+------+\n",
            "\n"
          ]
        }
      ]
    },
    {
      "cell_type": "markdown",
      "source": [
        "Sorting the data using orderBy"
      ],
      "metadata": {
        "id": "6KfUlnFW7K-w"
      }
    },
    {
      "cell_type": "code",
      "source": [
        "# Sort by sales in ascending order\n",
        "df.orderBy('Sales').show()"
      ],
      "metadata": {
        "colab": {
          "base_uri": "https://localhost:8080/"
        },
        "id": "5T3R5QcMgoX3",
        "outputId": "26a02b27-3e61-475d-8a8b-a921ed53e342"
      },
      "execution_count": 27,
      "outputs": [
        {
          "output_type": "stream",
          "name": "stdout",
          "text": [
            "+-------+-------+-----+\n",
            "|Company| Person|Sales|\n",
            "+-------+-------+-----+\n",
            "|   GOOG|Charlie|120.0|\n",
            "|   MSFT|    Amy|124.0|\n",
            "|   APPL|  Linda|130.0|\n",
            "|   GOOG|    Sam|200.0|\n",
            "|   MSFT|Vanessa|243.0|\n",
            "|   APPL|   John|250.0|\n",
            "|   GOOG|  Frank|340.0|\n",
            "|     FB|  Sarah|350.0|\n",
            "|   APPL|  Chris|350.0|\n",
            "|   MSFT|   Tina|600.0|\n",
            "|   APPL|   Mike|750.0|\n",
            "|     FB|   Carl|870.0|\n",
            "+-------+-------+-----+\n",
            "\n"
          ]
        }
      ]
    },
    {
      "cell_type": "markdown",
      "source": [
        "Sorting in Descending Order"
      ],
      "metadata": {
        "id": "II8y6BmC7ROi"
      }
    },
    {
      "cell_type": "code",
      "source": [
        "df.orderBy('Sales', ascending=False).show()"
      ],
      "metadata": {
        "colab": {
          "base_uri": "https://localhost:8080/"
        },
        "id": "R5V-kL5Eigbs",
        "outputId": "04b9f973-dfc2-43ef-aa43-020c6cfccb49"
      },
      "execution_count": 28,
      "outputs": [
        {
          "output_type": "stream",
          "name": "stdout",
          "text": [
            "+-------+-------+-----+\n",
            "|Company| Person|Sales|\n",
            "+-------+-------+-----+\n",
            "|     FB|   Carl|870.0|\n",
            "|   APPL|   Mike|750.0|\n",
            "|   MSFT|   Tina|600.0|\n",
            "|     FB|  Sarah|350.0|\n",
            "|   APPL|  Chris|350.0|\n",
            "|   GOOG|  Frank|340.0|\n",
            "|   APPL|   John|250.0|\n",
            "|   MSFT|Vanessa|243.0|\n",
            "|   GOOG|    Sam|200.0|\n",
            "|   APPL|  Linda|130.0|\n",
            "|   MSFT|    Amy|124.0|\n",
            "|   GOOG|Charlie|120.0|\n",
            "+-------+-------+-----+\n",
            "\n"
          ]
        }
      ]
    },
    {
      "cell_type": "markdown",
      "source": [
        "limit(n)"
      ],
      "metadata": {
        "id": "GwucBkto7W5w"
      }
    },
    {
      "cell_type": "code",
      "source": [
        "df.orderBy('Sales', ascending = False).limit(3).show()"
      ],
      "metadata": {
        "colab": {
          "base_uri": "https://localhost:8080/"
        },
        "id": "Pr2gZ8Qtii2D",
        "outputId": "a335a461-072a-439b-9ad4-e0baba0d31de"
      },
      "execution_count": 29,
      "outputs": [
        {
          "output_type": "stream",
          "name": "stdout",
          "text": [
            "+-------+------+-----+\n",
            "|Company|Person|Sales|\n",
            "+-------+------+-----+\n",
            "|     FB|  Carl|870.0|\n",
            "|   APPL|  Mike|750.0|\n",
            "|   MSFT|  Tina|600.0|\n",
            "+-------+------+-----+\n",
            "\n"
          ]
        }
      ]
    },
    {
      "cell_type": "markdown",
      "source": [
        "Sorting by Multiple Columns"
      ],
      "metadata": {
        "id": "VLfsCIlr7bG-"
      }
    },
    {
      "cell_type": "code",
      "source": [
        "data = [(\"A\", 3), (\"B\", 1), (\"C\", 3), (\"D\", 1)]\n",
        "df = spark.createDataFrame(data, [\"name\", \"value\"])\n",
        "\n",
        "# Sort by \"value\" (ascending) and \"name\" (descending)\n",
        "df.orderBy(\"value\", df[\"name\"].desc()).show()"
      ],
      "metadata": {
        "colab": {
          "base_uri": "https://localhost:8080/"
        },
        "id": "x1OZG5tUipdY",
        "outputId": "5c90e450-ab18-4750-b04f-bac2068d0b69"
      },
      "execution_count": 30,
      "outputs": [
        {
          "output_type": "stream",
          "name": "stdout",
          "text": [
            "+----+-----+\n",
            "|name|value|\n",
            "+----+-----+\n",
            "|   D|    1|\n",
            "|   B|    1|\n",
            "|   C|    3|\n",
            "|   A|    3|\n",
            "+----+-----+\n",
            "\n"
          ]
        }
      ]
    },
    {
      "cell_type": "markdown",
      "source": [
        "##### Transform data"
      ],
      "metadata": {
        "id": "PMAE5eli7mdK"
      }
    },
    {
      "cell_type": "code",
      "source": [
        "from pyspark.sql.functions import col, expr\n",
        "# ASCII representation of the messages\n",
        "data = [\n",
        "   (1, [77, 101, 114, 114, 121, 32, 67, 104, 114, 105, 115, 116, 109, 97, 115]),\n",
        "   (2, [72, 97, 112, 112, 121, 32, 78, 101, 119, 32, 89, 101, 97, 114])\n",
        "]\n",
        "columns = [\"ID\", \"ASCII\"]\n",
        "\n",
        "# Create DataFrame\n",
        "df = spark.createDataFrame(data, columns)\n",
        "df.collect()"
      ],
      "metadata": {
        "colab": {
          "base_uri": "https://localhost:8080/"
        },
        "id": "TU_10C6uiyll",
        "outputId": "a6b1d28d-9a0a-4554-8a91-f8c7c33dcdee"
      },
      "execution_count": 31,
      "outputs": [
        {
          "output_type": "execute_result",
          "data": {
            "text/plain": [
              "[Row(ID=1, ASCII=[77, 101, 114, 114, 121, 32, 67, 104, 114, 105, 115, 116, 109, 97, 115]),\n",
              " Row(ID=2, ASCII=[72, 97, 112, 112, 121, 32, 78, 101, 119, 32, 89, 101, 97, 114])]"
            ]
          },
          "metadata": {},
          "execution_count": 31
        }
      ]
    },
    {
      "cell_type": "markdown",
      "source": [
        "Transform data: num -> char"
      ],
      "metadata": {
        "id": "lsXBgt337xce"
      }
    },
    {
      "cell_type": "code",
      "source": [
        "# Convert ASCII list to message using lambda function\n",
        "df_with_message = df.withColumn(\n",
        "   \"Message\",\n",
        "   expr(\"concat_ws('', transform(ASCII, x -> char(x)))\")\n",
        ")"
      ],
      "metadata": {
        "id": "735F7tsxi6AB"
      },
      "execution_count": 32,
      "outputs": []
    },
    {
      "cell_type": "code",
      "source": [
        "# What is the result ?\n",
        "df_with_message.select(\"ID\", \"Message\").show()"
      ],
      "metadata": {
        "colab": {
          "base_uri": "https://localhost:8080/"
        },
        "id": "uvBr8zLnjIrQ",
        "outputId": "88ccc71e-1b9f-4420-fcbe-e7b39b034da9"
      },
      "execution_count": 33,
      "outputs": [
        {
          "output_type": "stream",
          "name": "stdout",
          "text": [
            "+---+---------------+\n",
            "| ID|        Message|\n",
            "+---+---------------+\n",
            "|  1|Merry Christmas|\n",
            "|  2| Happy New Year|\n",
            "+---+---------------+\n",
            "\n"
          ]
        }
      ]
    }
  ]
}