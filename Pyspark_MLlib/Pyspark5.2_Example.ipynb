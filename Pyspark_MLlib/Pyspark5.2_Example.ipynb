{
  "nbformat": 4,
  "nbformat_minor": 0,
  "metadata": {
    "colab": {
      "provenance": []
    },
    "kernelspec": {
      "name": "python3",
      "display_name": "Python 3"
    },
    "language_info": {
      "name": "python"
    }
  },
  "cells": [
    {
      "cell_type": "markdown",
      "source": [
        "### Example: Linear Regression"
      ],
      "metadata": {
        "id": "UBdRavoS9OZS"
      }
    },
    {
      "cell_type": "markdown",
      "source": [
        "![LinearRegession](Img/PysparkLiR.png)"
      ],
      "metadata": {
        "id": "HPoO_vhyD5sK"
      }
    },
    {
      "cell_type": "code",
      "execution_count": 2,
      "metadata": {
        "id": "KdWC_WQFnYrB",
        "colab": {
          "base_uri": "https://localhost:8080/"
        },
        "outputId": "348a8072-74a4-44c9-afa4-1194562d40a7"
      },
      "outputs": [
        {
          "output_type": "stream",
          "name": "stdout",
          "text": [
            "Coefficients: 2.000000000000002\n",
            "Intercept: -6.908406818208612e-15\n",
            "+--------+-----+------------------+\n",
            "|features|label|        prediction|\n",
            "+--------+-----+------------------+\n",
            "|   [1.0]|  2.0|1.9999999999999953|\n",
            "|   [2.0]|  4.0|3.9999999999999973|\n",
            "|   [3.0]|  6.0|               6.0|\n",
            "|   [4.0]|  8.0| 8.000000000000002|\n",
            "|   [5.0]| 10.0|10.000000000000004|\n",
            "+--------+-----+------------------+\n",
            "\n"
          ]
        }
      ],
      "source": [
        "from pyspark.sql import SparkSession\n",
        "from pyspark.ml.regression import LinearRegression\n",
        "from pyspark.ml.feature import VectorAssembler\n",
        "\n",
        "# Step 1: Initialize Spark session\n",
        "spark = SparkSession.builder.appName(\"SimpleLinearRegression\").getOrCreate()\n",
        "\n",
        "# Step 2: Create a simple dataset\n",
        "# Here, we use a small dataset with one feature and one label\n",
        "data = [\n",
        "    (1.0, 2.0),\n",
        "    (2.0, 4.0),\n",
        "    (3.0, 6.0),\n",
        "    (4.0, 8.0),\n",
        "    (5.0, 10.0)\n",
        "]\n",
        "\n",
        "# Define the schema as (feature, label)\n",
        "columns = [\"feature\", \"label\"]\n",
        "\n",
        "# Create a Spark DataFrame\n",
        "df = spark.createDataFrame(data, columns)\n",
        "\n",
        "# Step 3: Prepare the data for the linear regression model\n",
        "# Convert the \"feature\" column into a vector column\n",
        "vector_assembler = VectorAssembler(inputCols=[\"feature\"], outputCol=\"features\")\n",
        "prepared_data = vector_assembler.transform(df).select(\"features\", \"label\")\n",
        "\n",
        "# Step 4: Create and train the linear regression model\n",
        "linear_regression = LinearRegression(featuresCol=\"features\", labelCol=\"label\")\n",
        "lr_model = linear_regression.fit(prepared_data)\n",
        "\n",
        "# Step 5: Output the coefficients and intercept\n",
        "print(f\"Coefficients: {lr_model.coefficients[0]}\")\n",
        "print(f\"Intercept: {lr_model.intercept}\")\n",
        "\n",
        "# Step 6: Make predictions using the model\n",
        "# Create a DataFrame for the unseen data\n",
        "# unseen_data = spark.createDataFrame([(3.3,)], [\"feature\"])  # Input feature value\n",
        "# unseen_data = vector_assembler.transform(unseen_data)\n",
        "\n",
        "# Use the trained model to predict\n",
        "predictions = lr_model.transform(prepared_data )\n",
        "predictions.show()\n",
        "\n",
        "# Stop the Spark session\n",
        "#spark.stop()"
      ]
    },
    {
      "cell_type": "markdown",
      "source": [
        "Plotting Graph"
      ],
      "metadata": {
        "id": "AOjTm7dPBSjq"
      }
    },
    {
      "cell_type": "code",
      "source": [
        "import matplotlib.pyplot as plt\n",
        "\n",
        "# Step 1: Extract the data for visualization\n",
        "# Collect predictions and actual labels from the PySpark DataFrame\n",
        "predicted_data = predictions.select(\"features\", \"label\", \"prediction\").collect()\n",
        "\n",
        "# Separate the features, labels, and predictions into Python lists\n",
        "features = [row[\"features\"][0] for row in predicted_data]  # Extract the single feature (x values)\n",
        "labels = [row[\"label\"] for row in predicted_data]          # Actual labels (y values)\n",
        "predictions = [row[\"prediction\"] for row in predicted_data]  # Predicted labels (y_pred values)\n",
        "\n",
        "# Step 2: Create a scatter plot of the actual data\n",
        "plt.scatter(features, labels, color=\"blue\", label=\"Actual Data\")\n",
        "\n",
        "# Step 3: Plot the regression line\n",
        "plt.plot(features, predictions, color=\"red\", label=\"Regression Line\")\n",
        "\n",
        "# Step 4: Customize the plot\n",
        "plt.title(\"Linear Regression Visualization\")\n",
        "plt.xlabel(\"Feature (x)\")\n",
        "plt.ylabel(\"Label (y)\")\n",
        "plt.legend()\n",
        "\n",
        "# Step 5: Show the plot\n",
        "plt.grid(True)\n",
        "plt.show()\n"
      ],
      "metadata": {
        "colab": {
          "base_uri": "https://localhost:8080/",
          "height": 472
        },
        "id": "sGnNqrr0Yy2f",
        "outputId": "780d613a-8d89-4f11-85f5-a613c4ccc258"
      },
      "execution_count": 3,
      "outputs": [
        {
          "output_type": "display_data",
          "data": {
            "text/plain": [
              "<Figure size 640x480 with 1 Axes>"
            ],
            "image/png": "[encoded data removed]"
          },
          "metadata": {}
        }
      ]
    },
    {
      "cell_type": "markdown",
      "source": [
        "### Example: Linear Regression 2"
      ],
      "metadata": {
        "id": "DuixFlUXMyXR"
      }
    },
    {
      "cell_type": "code",
      "source": [
        "from pyspark.sql import SparkSession\n",
        "from pyspark.ml.regression import LinearRegression\n",
        "from pyspark.ml.feature import VectorAssembler\n",
        "import matplotlib.pyplot as plt\n",
        "import numpy as np\n",
        "\n",
        "# Initialize Spark session\n",
        "spark = SparkSession.builder.appName(\"LinearRegressionVisualization\").getOrCreate()\n",
        "\n",
        "# Create a DataFrame with the data points\n",
        "data = [(1.0, 2.0), (2.0, 3.0), (3.0, 5.0), (4.0, 4.0), (5.0, 6.0)]\n",
        "df = spark.createDataFrame(data, [\"x\", \"y\"])\n",
        "\n",
        "# Prepare the data for Linear Regression\n",
        "assembler = VectorAssembler(inputCols=[\"x\"], outputCol=\"features\")\n",
        "df = assembler.transform(df)\n",
        "\n",
        "# Create a Linear Regression model\n",
        "lr = LinearRegression(featuresCol=\"features\", labelCol=\"y\")\n",
        "\n",
        "# Fit the model\n",
        "model = lr.fit(df)\n",
        "\n",
        "# Extract the slope and intercept\n",
        "slope = model.coefficients[0]\n",
        "intercept = model.intercept\n",
        "\n",
        "print(f\"Slope (m): {slope}\")\n",
        "print(f\"Intercept (b): {intercept}\")\n",
        "\n",
        "# Collect the data points for visualization\n",
        "x_values = np.array([row.x for row in df.select(\"x\").collect()])\n",
        "y_values = np.array([row.y for row in df.select(\"y\").collect()])\n",
        "\n",
        "# Generate the regression line\n",
        "x_line = np.array([0, 5])  # Start from 0 to 5 (or any range you want)\n",
        "y_line = slope * x_line + intercept\n",
        "\n",
        "# Plot the data points and regression line\n",
        "plt.figure(figsize=(8, 6))\n",
        "plt.scatter(x_values, y_values, color=\"blue\", label=\"Data Points\")  # Plot data points\n",
        "plt.plot(x_line, y_line, color=\"red\", label=f\"Regression Line: y = {slope:.2f}x + {intercept:.2f}\")  # Plot regression line\n",
        "plt.title(\"Linear Regression Visualization\")\n",
        "plt.xlabel(\"x\")\n",
        "plt.ylabel(\"y\")\n",
        "plt.grid(True)\n",
        "plt.legend()\n",
        "plt.xlim(0, 6)  # Start x-axis from 0\n",
        "plt.ylim(0, 7)  # Start y-axis from 0\n",
        "plt.show()\n",
        "\n",
        "# Stop the Spark session\n",
        "spark.stop()"
      ],
      "metadata": {
        "colab": {
          "base_uri": "https://localhost:8080/",
          "height": 600
        },
        "id": "egEmlXZ-M1DS",
        "outputId": "71247c8d-12e3-414a-82e8-917958d6c022"
      },
      "execution_count": 4,
      "outputs": [
        {
          "output_type": "stream",
          "name": "stdout",
          "text": [
            "Slope (m): 0.8999999999999999\n",
            "Intercept (b): 1.3000000000000005\n"
          ]
        },
        {
          "output_type": "display_data",
          "data": {
            "text/plain": [
              "<Figure size 800x600 with 1 Axes>"
            ],
            "image/png": "[encoded data removed]"
          },
          "metadata": {}
        }
      ]
    },
    {
      "cell_type": "markdown",
      "source": [
        "Evaluate model"
      ],
      "metadata": {
        "id": "njIF6O6UNGOn"
      }
    },
    {
      "cell_type": "code",
      "source": [
        "import numpy as np\n",
        "from sklearn.metrics import mean_absolute_error, mean_squared_error, r2_score\n",
        "\n",
        "# Given data points\n",
        "x = np.array([1, 2, 3, 4, 5])\n",
        "y_actual = np.array([2, 3, 5, 4, 6])\n",
        "\n",
        "# Model parameters\n",
        "m = 0.9\n",
        "b = 1.3\n",
        "\n",
        "# Compute predictions\n",
        "y_predicted = m * x + b\n",
        "\n",
        "# Calculate evaluation metrics\n",
        "mae = mean_absolute_error(y_actual, y_predicted)\n",
        "mse = mean_squared_error(y_actual, y_predicted)\n",
        "rmse = np.sqrt(mse)\n",
        "r2 = r2_score(y_actual, y_predicted)\n",
        "\n",
        "# Print results\n",
        "print(f\"MAE: {mae:.3f}\")\n",
        "print(f\"MSE: {mse:.3f}\")\n",
        "print(f\"RMSE: {rmse:.3f}\")\n",
        "print(f\"R²: {r2:.3f}\")"
      ],
      "metadata": {
        "colab": {
          "base_uri": "https://localhost:8080/"
        },
        "id": "XISNvP13NEiz",
        "outputId": "c5c9d3a0-7f7b-48b2-c334-c87d376f8426"
      },
      "execution_count": 5,
      "outputs": [
        {
          "output_type": "stream",
          "name": "stdout",
          "text": [
            "MAE: 0.480\n",
            "MSE: 0.380\n",
            "RMSE: 0.616\n",
            "R²: 0.810\n"
          ]
        }
      ]
    },
    {
      "cell_type": "markdown",
      "source": [
        "### Example: Naive Bayes Classifier\n"
      ],
      "metadata": {
        "id": "RZVPF0uGBVqR"
      }
    },
    {
      "cell_type": "code",
      "source": [
        "from pyspark.sql import SparkSession\n",
        "from pyspark.ml.feature import StringIndexer, VectorAssembler\n",
        "from pyspark.ml.classification import NaiveBayes\n",
        "\n",
        "# Step 1: Initialize Spark Session\n",
        "spark = SparkSession.builder.appName(\"NaiveBayesClassifier\").getOrCreate()\n",
        "\n",
        "# Step 2: Create the dataset\n",
        "data = [\n",
        "    (\"sunny\", \"hot\", \"high\", \"false\", \"N\"),\n",
        "    (\"sunny\", \"hot\", \"high\", \"true\", \"N\"),\n",
        "    (\"overcast\", \"hot\", \"high\", \"false\", \"P\"),\n",
        "    (\"rain\", \"mild\", \"high\", \"false\", \"P\"),\n",
        "    (\"rain\", \"cool\", \"normal\", \"false\", \"P\"),\n",
        "    (\"rain\", \"cool\", \"normal\", \"true\", \"N\"),\n",
        "    (\"overcast\", \"cool\", \"normal\", \"true\", \"P\"),\n",
        "    (\"sunny\", \"mild\", \"high\", \"false\", \"N\"),\n",
        "    (\"sunny\", \"cool\", \"normal\", \"false\", \"P\"),\n",
        "    (\"rain\", \"mild\", \"normal\", \"false\", \"P\"),\n",
        "    (\"sunny\", \"mild\", \"normal\", \"true\", \"P\"),\n",
        "    (\"overcast\", \"mild\", \"high\", \"true\", \"P\"),\n",
        "    (\"overcast\", \"hot\", \"normal\", \"false\", \"P\"),\n",
        "    (\"rain\", \"mild\", \"high\", \"true\", \"N\"),\n",
        "]\n",
        "\n",
        "columns = [\"Outlook\", \"Temperature\", \"Humidity\", \"Windy\", \"Class\"]\n",
        "\n",
        "df = spark.createDataFrame(data, columns)\n",
        "\n",
        "# Step 3: Encode categorical features and label\n",
        "# Use StringIndexer to convert categorical variables into numeric indices\n",
        "indexers = {col: StringIndexer(inputCol=col, outputCol=f\"{col}_index\").fit(df) for col in [\"Outlook\", \"Temperature\", \"Humidity\", \"Windy\", \"Class\"]}\n",
        "for indexer in indexers.values():\n",
        "    df = indexer.transform(df)\n",
        "\n",
        "# Step 4: Assemble features into a single vector\n",
        "assembler = VectorAssembler(\n",
        "    inputCols=[\"Outlook_index\", \"Temperature_index\", \"Humidity_index\", \"Windy_index\"],\n",
        "    outputCol=\"features\"\n",
        ")\n",
        "df = assembler.transform(df)\n",
        "\n",
        "df.show()"
      ],
      "metadata": {
        "colab": {
          "base_uri": "https://localhost:8080/"
        },
        "id": "YC3fyGwLY92Q",
        "outputId": "ccde1316-47fd-412c-9132-3ae54bb0f8a2"
      },
      "execution_count": 6,
      "outputs": [
        {
          "output_type": "stream",
          "name": "stdout",
          "text": [
            "+--------+-----------+--------+-----+-----+-------------+-----------------+--------------+-----------+-----------+-----------------+\n",
            "| Outlook|Temperature|Humidity|Windy|Class|Outlook_index|Temperature_index|Humidity_index|Windy_index|Class_index|         features|\n",
            "+--------+-----------+--------+-----+-----+-------------+-----------------+--------------+-----------+-----------+-----------------+\n",
            "|   sunny|        hot|    high|false|    N|          1.0|              2.0|           0.0|        0.0|        1.0|[1.0,2.0,0.0,0.0]|\n",
            "|   sunny|        hot|    high| true|    N|          1.0|              2.0|           0.0|        1.0|        1.0|[1.0,2.0,0.0,1.0]|\n",
            "|overcast|        hot|    high|false|    P|          2.0|              2.0|           0.0|        0.0|        0.0|[2.0,2.0,0.0,0.0]|\n",
            "|    rain|       mild|    high|false|    P|          0.0|              0.0|           0.0|        0.0|        0.0|        (4,[],[])|\n",
            "|    rain|       cool|  normal|false|    P|          0.0|              1.0|           1.0|        0.0|        0.0|[0.0,1.0,1.0,0.0]|\n",
            "|    rain|       cool|  normal| true|    N|          0.0|              1.0|           1.0|        1.0|        1.0|[0.0,1.0,1.0,1.0]|\n",
            "|overcast|       cool|  normal| true|    P|          2.0|              1.0|           1.0|        1.0|        0.0|[2.0,1.0,1.0,1.0]|\n",
            "|   sunny|       mild|    high|false|    N|          1.0|              0.0|           0.0|        0.0|        1.0|    (4,[0],[1.0])|\n",
            "|   sunny|       cool|  normal|false|    P|          1.0|              1.0|           1.0|        0.0|        0.0|[1.0,1.0,1.0,0.0]|\n",
            "|    rain|       mild|  normal|false|    P|          0.0|              0.0|           1.0|        0.0|        0.0|    (4,[2],[1.0])|\n",
            "|   sunny|       mild|  normal| true|    P|          1.0|              0.0|           1.0|        1.0|        0.0|[1.0,0.0,1.0,1.0]|\n",
            "|overcast|       mild|    high| true|    P|          2.0|              0.0|           0.0|        1.0|        0.0|[2.0,0.0,0.0,1.0]|\n",
            "|overcast|        hot|  normal|false|    P|          2.0|              2.0|           1.0|        0.0|        0.0|[2.0,2.0,1.0,0.0]|\n",
            "|    rain|       mild|    high| true|    N|          0.0|              0.0|           0.0|        1.0|        1.0|    (4,[3],[1.0])|\n",
            "+--------+-----------+--------+-----+-----+-------------+-----------------+--------------+-----------+-----------+-----------------+\n",
            "\n"
          ]
        }
      ]
    },
    {
      "cell_type": "code",
      "source": [
        "# Select final columns for training\n",
        "training_data = df.select(\"features\", \"Class_index\").withColumnRenamed(\"Class_index\", \"label\")\n",
        "\n",
        "# Step 5: Train Naive Bayes model\n",
        "naive_bayes = NaiveBayes(smoothing=1.0, modelType=\"multinomial\")\n",
        "model = naive_bayes.fit(training_data)\n",
        "\n",
        "# Step 6: Predict for unseen data X = <rain, hot, high, false>\n",
        "unseen_data = spark.createDataFrame([(\"rain\", \"hot\", \"high\", \"false\")], [\"Outlook\", \"Temperature\", \"Humidity\", \"Windy\"])\n",
        "for col, indexer in indexers.items():\n",
        "    if col != \"Class\":  # Skip label column indexer\n",
        "        unseen_data = indexer.transform(unseen_data)\n",
        "\n",
        "# Assemble features for unseen data\n",
        "unseen_data = assembler.transform(unseen_data)\n",
        "\n",
        "# Make prediction\n",
        "prediction = model.transform(unseen_data)\n",
        "prediction.select(\"features\", \"prediction\").show()\n",
        "\n",
        "# Step 7: Verify class mappings\n",
        "print(\"Class Mappings:\")\n",
        "print(indexers[\"Class\"].labels)\n",
        "\n",
        "# Stop Spark Session\n",
        "spark.stop()"
      ],
      "metadata": {
        "id": "sqhAVDopFC8b",
        "outputId": "6093801d-27fa-4772-f32a-a6f5a34503d4",
        "colab": {
          "base_uri": "https://localhost:8080/"
        }
      },
      "execution_count": 7,
      "outputs": [
        {
          "output_type": "stream",
          "name": "stdout",
          "text": [
            "+-------------+----------+\n",
            "|     features|prediction|\n",
            "+-------------+----------+\n",
            "|(4,[1],[2.0])|       1.0|\n",
            "+-------------+----------+\n",
            "\n",
            "Class Mappings:\n",
            "['P', 'N']\n"
          ]
        }
      ]
    }
  ]
}