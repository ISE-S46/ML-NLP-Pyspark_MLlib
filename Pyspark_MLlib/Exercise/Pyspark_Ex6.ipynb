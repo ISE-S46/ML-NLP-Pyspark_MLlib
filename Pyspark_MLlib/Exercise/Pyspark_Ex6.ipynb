{
  "cells": [
    {
      "cell_type": "markdown",
      "metadata": {
        "id": "RooJUFgbyT2d"
      },
      "source": [
        "### Recommender System"
      ]
    },
    {
      "cell_type": "code",
      "execution_count": 1,
      "metadata": {
        "id": "hC_ya6YKwkB4"
      },
      "outputs": [],
      "source": [
        "from pyspark.sql import SparkSession\n",
        "from pyspark.ml.recommendation import ALS\n",
        "from pyspark.ml.evaluation import RegressionEvaluator"
      ]
    },
    {
      "cell_type": "code",
      "execution_count": 2,
      "metadata": {
        "id": "ZHwGZxARyTXr"
      },
      "outputs": [],
      "source": [
        "spark = SparkSession.builder.appName(\"Homework_12.1\").getOrCreate()"
      ]
    },
    {
      "cell_type": "code",
      "execution_count": 4,
      "metadata": {
        "id": "vT53nDX0yfGJ"
      },
      "outputs": [],
      "source": [
        "data = spark.read.csv('../Datasets/ratings.csv', inferSchema=True, header=True)"
      ]
    },
    {
      "cell_type": "code",
      "execution_count": 5,
      "metadata": {
        "colab": {
          "base_uri": "https://localhost:8080/"
        },
        "id": "Jceo64BnyhJK",
        "outputId": "55fef8a6-fbb8-4fee-8e23-472d757a7f18"
      },
      "outputs": [
        {
          "name": "stdout",
          "output_type": "stream",
          "text": [
            "root\n",
            " |-- userId: integer (nullable = true)\n",
            " |-- movieId: integer (nullable = true)\n",
            " |-- rating: double (nullable = true)\n",
            " |-- timestamp: integer (nullable = true)\n",
            "\n"
          ]
        }
      ],
      "source": [
        "data.printSchema()"
      ]
    },
    {
      "cell_type": "code",
      "execution_count": 6,
      "metadata": {
        "colab": {
          "base_uri": "https://localhost:8080/"
        },
        "id": "WLifwmJNynRI",
        "outputId": "4c6f00a6-98bc-4c34-ae9b-f103afac304b"
      },
      "outputs": [
        {
          "name": "stdout",
          "output_type": "stream",
          "text": [
            "+------+-------+------+---------+\n",
            "|userId|movieId|rating|timestamp|\n",
            "+------+-------+------+---------+\n",
            "|     1|      1|   4.0|964982703|\n",
            "|     1|      3|   4.0|964981247|\n",
            "|     1|      6|   4.0|964982224|\n",
            "|     1|     47|   5.0|964983815|\n",
            "|     1|     50|   5.0|964982931|\n",
            "|     1|     70|   3.0|964982400|\n",
            "|     1|    101|   5.0|964980868|\n",
            "|     1|    110|   4.0|964982176|\n",
            "|     1|    151|   5.0|964984041|\n",
            "|     1|    157|   5.0|964984100|\n",
            "|     1|    163|   5.0|964983650|\n",
            "|     1|    216|   5.0|964981208|\n",
            "|     1|    223|   3.0|964980985|\n",
            "|     1|    231|   5.0|964981179|\n",
            "|     1|    235|   4.0|964980908|\n",
            "|     1|    260|   5.0|964981680|\n",
            "|     1|    296|   3.0|964982967|\n",
            "|     1|    316|   3.0|964982310|\n",
            "|     1|    333|   5.0|964981179|\n",
            "|     1|    349|   4.0|964982563|\n",
            "+------+-------+------+---------+\n",
            "only showing top 20 rows\n",
            "\n"
          ]
        }
      ],
      "source": [
        "data.show()"
      ]
    },
    {
      "cell_type": "code",
      "execution_count": 7,
      "metadata": {
        "id": "d3yfcrclypWC"
      },
      "outputs": [],
      "source": [
        "training, test = data.randomSplit([0.8, 0.2], seed=42)"
      ]
    },
    {
      "cell_type": "code",
      "execution_count": 11,
      "metadata": {
        "id": "gJ4wwMFhzwam"
      },
      "outputs": [],
      "source": [
        "# Use coldStartStrategy=\"drop\" in ALS\n",
        "als = ALS(maxIter=5, regParam=0.01, userCol='userId', itemCol='movieId', ratingCol='rating', coldStartStrategy=\"drop\")"
      ]
    },
    {
      "cell_type": "code",
      "execution_count": 12,
      "metadata": {
        "id": "b5-mOrX41z8i"
      },
      "outputs": [],
      "source": [
        "model = als.fit(training)"
      ]
    },
    {
      "cell_type": "code",
      "execution_count": 15,
      "metadata": {
        "id": "AKxOqyEZ15_D"
      },
      "outputs": [],
      "source": [
        "predictions = model.transform(test)\n",
        "# Remove NaN predictions before computing RMSE\n",
        "predictions = predictions.na.drop()"
      ]
    },
    {
      "cell_type": "code",
      "execution_count": 16,
      "metadata": {
        "colab": {
          "base_uri": "https://localhost:8080/"
        },
        "id": "3bOZ2bfP16Ze",
        "outputId": "b9e78e60-848c-4c87-dc5c-74463c514d04"
      },
      "outputs": [
        {
          "name": "stdout",
          "output_type": "stream",
          "text": [
            "Updated RMSE: 1.088378\n"
          ]
        }
      ],
      "source": [
        "# Evaluate RMSE\n",
        "evaluator = RegressionEvaluator(metricName=\"rmse\", labelCol=\"rating\", predictionCol=\"prediction\")\n",
        "rmse = evaluator.evaluate(predictions)\n",
        "print(f\"Updated RMSE: {rmse:.6f}\")"
      ]
    },
    {
      "cell_type": "code",
      "execution_count": 17,
      "metadata": {
        "id": "6PMKlcNL1_vV"
      },
      "outputs": [],
      "source": [
        "# Find the most recommended movie for User (2221610070)\n",
        "id = 70"
      ]
    },
    {
      "cell_type": "code",
      "execution_count": 18,
      "metadata": {
        "id": "4NNocrTF2MsG"
      },
      "outputs": [],
      "source": [
        "user_recommendations = model.recommendForAllUsers(10)"
      ]
    },
    {
      "cell_type": "code",
      "execution_count": 19,
      "metadata": {
        "id": "W0g64OIl2PtW"
      },
      "outputs": [],
      "source": [
        "recommended_movies = user_recommendations.filter(user_recommendations.userId == id).select(\"recommendations\").collect()"
      ]
    },
    {
      "cell_type": "code",
      "execution_count": 20,
      "metadata": {
        "colab": {
          "base_uri": "https://localhost:8080/"
        },
        "id": "VO4J82-T2VXM",
        "outputId": "6b87f3c0-7cb8-457f-8deb-dbd4fad4fd60"
      },
      "outputs": [
        {
          "name": "stdout",
          "output_type": "stream",
          "text": [
            "Most Recommended Movie ID for User 70: 381\n"
          ]
        }
      ],
      "source": [
        "if recommended_movies:\n",
        "    most_recommended_movie = recommended_movies[0][\"recommendations\"][0][\"movieId\"]\n",
        "    print(f\"Most Recommended Movie ID for User {id}: {most_recommended_movie}\")\n",
        "else:\n",
        "    print(f\"No recommendations found for User {id}\")"
      ]
    }
  ],
  "metadata": {
    "colab": {
      "provenance": []
    },
    "kernelspec": {
      "display_name": "Python 3",
      "name": "python3"
    },
    "language_info": {
      "name": "python"
    }
  },
  "nbformat": 4,
  "nbformat_minor": 0
}
