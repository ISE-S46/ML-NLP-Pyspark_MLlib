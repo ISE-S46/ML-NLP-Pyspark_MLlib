{
  "cells": [
    {
      "cell_type": "markdown",
      "metadata": {
        "id": "GNLcdAoxO2n5"
      },
      "source": [
        "### Homework # 6: Linear Regression Exercise"
      ]
    },
    {
      "cell_type": "code",
      "execution_count": 1,
      "metadata": {
        "id": "MR5nFZ9nGuYm"
      },
      "outputs": [],
      "source": [
        "from pyspark.sql import SparkSession\n",
        "from pyspark.ml.feature import VectorAssembler\n",
        "from pyspark.ml.regression import LinearRegression\n",
        "\n",
        "spark = SparkSession.builder.appName(\"Homework 9.2\").getOrCreate()"
      ]
    },
    {
      "cell_type": "markdown",
      "metadata": {
        "id": "XUrUof50O_yV"
      },
      "source": [
        "#### Load student performance data"
      ]
    },
    {
      "cell_type": "code",
      "execution_count": 2,
      "metadata": {
        "id": "3M1EbbghIuL_"
      },
      "outputs": [],
      "source": [
        "df = spark.read.csv('../Datasets/student_scores.csv', inferSchema=True, header=True)"
      ]
    },
    {
      "cell_type": "code",
      "execution_count": 3,
      "metadata": {
        "colab": {
          "base_uri": "https://localhost:8080/"
        },
        "id": "0SZYiAruI-7U",
        "outputId": "3d420366-f46e-4ecc-f9a0-f888505d3a2d"
      },
      "outputs": [
        {
          "name": "stdout",
          "output_type": "stream",
          "text": [
            "root\n",
            " |-- Study Hours: integer (nullable = true)\n",
            " |-- Attendance Rate: integer (nullable = true)\n",
            " |-- Previous Exam Score: integer (nullable = true)\n",
            " |-- Final Exam Score: integer (nullable = true)\n",
            "\n"
          ]
        }
      ],
      "source": [
        "df.printSchema()"
      ]
    },
    {
      "cell_type": "code",
      "execution_count": 4,
      "metadata": {
        "colab": {
          "base_uri": "https://localhost:8080/"
        },
        "id": "Jp2OFfrYI3xD",
        "outputId": "2d510dc9-d616-459d-d149-51c9ce15d0b6"
      },
      "outputs": [
        {
          "name": "stdout",
          "output_type": "stream",
          "text": [
            "+-----------+---------------+-------------------+----------------+\n",
            "|Study Hours|Attendance Rate|Previous Exam Score|Final Exam Score|\n",
            "+-----------+---------------+-------------------+----------------+\n",
            "|          5|             80|                 60|              65|\n",
            "|          8|             85|                 70|              78|\n",
            "|         12|             90|                 85|              92|\n",
            "|          4|             75|                 55|              58|\n",
            "|         10|             88|                 80|              85|\n",
            "|          7|             82|                 68|              72|\n",
            "|          9|             87|                 75|              80|\n",
            "|         11|             93|                 89|              95|\n",
            "|          6|             79|                 62|              68|\n",
            "|         13|             95|                 91|              98|\n",
            "|          3|             70|                 50|              53|\n",
            "|         15|             97|                 95|             100|\n",
            "|          2|             60|                 40|              45|\n",
            "|          1|             50|                 30|              38|\n",
            "|         14|             96|                 94|              99|\n",
            "|          8|             84|                 72|              76|\n",
            "|          9|             86|                 74|              79|\n",
            "|         12|             91|                 88|              94|\n",
            "|         10|             89|                 83|              87|\n",
            "|          7|             80|                 67|              71|\n",
            "+-----------+---------------+-------------------+----------------+\n",
            "\n"
          ]
        }
      ],
      "source": [
        "df.show()"
      ]
    },
    {
      "cell_type": "markdown",
      "metadata": {
        "id": "UGGwgOAOPFv-"
      },
      "source": [
        "#### Process features and target variable"
      ]
    },
    {
      "cell_type": "code",
      "execution_count": 5,
      "metadata": {
        "id": "xkghS4WkPKU9"
      },
      "outputs": [],
      "source": [
        "df = df.withColumnRenamed(\"Study Hours\", \"study_hours\") \\\n",
        "       .withColumnRenamed(\"Attendance Rate\", \"attendance\") \\\n",
        "       .withColumnRenamed(\"Previous Exam Score\", \"previous_score\") \\\n",
        "       .withColumnRenamed(\"Final Exam Score\", \"final_score\")"
      ]
    },
    {
      "cell_type": "code",
      "execution_count": 6,
      "metadata": {
        "id": "Ok4CVGs5JCRt"
      },
      "outputs": [],
      "source": [
        "assembler = VectorAssembler(inputCols=['study_hours','attendance','previous_score'], outputCol='features')"
      ]
    },
    {
      "cell_type": "code",
      "execution_count": 7,
      "metadata": {
        "id": "ds-jkAa0JPBR"
      },
      "outputs": [],
      "source": [
        "output = assembler.transform(df).select(\"features\", df[\"final_score\"].alias(\"label\"))"
      ]
    },
    {
      "cell_type": "code",
      "execution_count": 8,
      "metadata": {
        "colab": {
          "base_uri": "https://localhost:8080/"
        },
        "id": "ePyvt-UyJSNW",
        "outputId": "463fa589-dfd4-4a7f-aa93-d7ed194ee824"
      },
      "outputs": [
        {
          "name": "stdout",
          "output_type": "stream",
          "text": [
            "+----------------+-----+\n",
            "|features        |label|\n",
            "+----------------+-----+\n",
            "|[5.0,80.0,60.0] |65   |\n",
            "|[8.0,85.0,70.0] |78   |\n",
            "|[12.0,90.0,85.0]|92   |\n",
            "|[4.0,75.0,55.0] |58   |\n",
            "|[10.0,88.0,80.0]|85   |\n",
            "|[7.0,82.0,68.0] |72   |\n",
            "|[9.0,87.0,75.0] |80   |\n",
            "|[11.0,93.0,89.0]|95   |\n",
            "|[6.0,79.0,62.0] |68   |\n",
            "|[13.0,95.0,91.0]|98   |\n",
            "|[3.0,70.0,50.0] |53   |\n",
            "|[15.0,97.0,95.0]|100  |\n",
            "|[2.0,60.0,40.0] |45   |\n",
            "|[1.0,50.0,30.0] |38   |\n",
            "|[14.0,96.0,94.0]|99   |\n",
            "|[8.0,84.0,72.0] |76   |\n",
            "|[9.0,86.0,74.0] |79   |\n",
            "|[12.0,91.0,88.0]|94   |\n",
            "|[10.0,89.0,83.0]|87   |\n",
            "|[7.0,80.0,67.0] |71   |\n",
            "+----------------+-----+\n",
            "\n"
          ]
        }
      ],
      "source": [
        "output.show(truncate=False)"
      ]
    },
    {
      "cell_type": "markdown",
      "metadata": {
        "id": "iwjJ_wlLPKEK"
      },
      "source": [
        "#### Train a Linear Regression model\n",
        "Split the dataset into training (80%) and testing (20%)."
      ]
    },
    {
      "cell_type": "code",
      "execution_count": 9,
      "metadata": {
        "id": "a8ji9lbrJWZZ"
      },
      "outputs": [],
      "source": [
        "train_data, test_data = output.randomSplit([0.8,0.2], seed=42)"
      ]
    },
    {
      "cell_type": "code",
      "execution_count": 10,
      "metadata": {
        "id": "fTOZJZb4JZgV"
      },
      "outputs": [],
      "source": [
        "lr = LinearRegression(labelCol = 'label')\n",
        "lr_model = lr.fit(train_data)"
      ]
    },
    {
      "cell_type": "code",
      "execution_count": 11,
      "metadata": {
        "colab": {
          "base_uri": "https://localhost:8080/"
        },
        "id": "PxvIPphnMJIs",
        "outputId": "31ff754e-085f-40b8-92fa-954f0cba4dfb"
      },
      "outputs": [
        {
          "data": {
            "text/plain": [
              "DenseVector([1.0629, -0.0175, 0.7911])"
            ]
          },
          "execution_count": 11,
          "metadata": {},
          "output_type": "execute_result"
        }
      ],
      "source": [
        "lr_model.coefficients"
      ]
    },
    {
      "cell_type": "code",
      "execution_count": 12,
      "metadata": {
        "colab": {
          "base_uri": "https://localhost:8080/"
        },
        "id": "iaxUBxdWMOJu",
        "outputId": "8caf82bc-b5c9-4eaf-83fe-94dd22f35b91"
      },
      "outputs": [
        {
          "data": {
            "text/plain": [
              "13.168219206208601"
            ]
          },
          "execution_count": 12,
          "metadata": {},
          "output_type": "execute_result"
        }
      ],
      "source": [
        "lr_model.intercept"
      ]
    },
    {
      "cell_type": "markdown",
      "metadata": {
        "id": "XOmI8OpwPPk2"
      },
      "source": [
        "#### Evaluate the model using RMSE & R²"
      ]
    },
    {
      "cell_type": "code",
      "execution_count": 13,
      "metadata": {
        "id": "x94C0P2xMgaD"
      },
      "outputs": [],
      "source": [
        "test_results = lr_model.evaluate(test_data)"
      ]
    },
    {
      "cell_type": "code",
      "execution_count": 14,
      "metadata": {
        "colab": {
          "base_uri": "https://localhost:8080/"
        },
        "id": "d-YZ9koFMhz3",
        "outputId": "0afaf712-76a5-4e85-bef6-0fb5b6906286"
      },
      "outputs": [
        {
          "name": "stdout",
          "output_type": "stream",
          "text": [
            "RMSE : 1.6188564576933784\n"
          ]
        }
      ],
      "source": [
        "print(\"RMSE :\", test_results.rootMeanSquaredError)"
      ]
    },
    {
      "cell_type": "code",
      "execution_count": 15,
      "metadata": {
        "colab": {
          "base_uri": "https://localhost:8080/"
        },
        "id": "fwmwlKsbMklS",
        "outputId": "ab01787b-6abd-436e-9297-730143a353b2"
      },
      "outputs": [
        {
          "name": "stdout",
          "output_type": "stream",
          "text": [
            "R² : 0.9894428930445716\n"
          ]
        }
      ],
      "source": [
        "print(\"R² :\", test_results.r2)"
      ]
    },
    {
      "cell_type": "markdown",
      "metadata": {
        "id": "y7ArhGP4PUma"
      },
      "source": [
        "#### Predict final exam scores for new students\n",
        "Example: 10 study hours, 90% attendance, 75 previous score\n",
        "\n",
        "More example about yourself."
      ]
    },
    {
      "cell_type": "code",
      "execution_count": 16,
      "metadata": {
        "colab": {
          "base_uri": "https://localhost:8080/"
        },
        "id": "PbqYElKSNOuO",
        "outputId": "ba4d78d3-04be-486f-e49b-2f72133eb810"
      },
      "outputs": [
        {
          "name": "stdout",
          "output_type": "stream",
          "text": [
            "+---------------+-----------------+\n",
            "|features       |prediction       |\n",
            "+---------------+-----------------+\n",
            "|[9.0,88.0,74.0]|79.73786677976092|\n",
            "|[8.0,95.0,69.0]|74.59717787764198|\n",
            "+---------------+-----------------+\n",
            "\n"
          ]
        }
      ],
      "source": [
        "from pyspark.sql import Row\n",
        "\n",
        "new_data = [\n",
        "    Row(study_hours=9.0, attendance=88.0, previous_score=74.0),\n",
        "    Row(study_hours=8.0, attendance=95.0, previous_score=69.0)\n",
        "]\n",
        "\n",
        "unseen_df = spark.createDataFrame(new_data)\n",
        "\n",
        "new_students = assembler.transform(unseen_df)\n",
        "\n",
        "predictions = lr_model.transform(new_students)\n",
        "\n",
        "predictions.select(\"features\", \"prediction\").show(truncate=False)"
      ]
    }
  ],
  "metadata": {
    "colab": {
      "provenance": []
    },
    "kernelspec": {
      "display_name": "Python 3",
      "name": "python3"
    },
    "language_info": {
      "name": "python"
    }
  },
  "nbformat": 4,
  "nbformat_minor": 0
}
