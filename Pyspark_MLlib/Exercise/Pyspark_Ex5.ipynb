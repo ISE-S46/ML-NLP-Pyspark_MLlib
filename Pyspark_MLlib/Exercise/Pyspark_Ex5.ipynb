{
  "nbformat": 4,
  "nbformat_minor": 0,
  "metadata": {
    "colab": {
      "provenance": []
    },
    "kernelspec": {
      "name": "python3",
      "display_name": "Python 3"
    },
    "language_info": {
      "name": "python"
    }
  },
  "cells": [
    {
      "cell_type": "markdown",
      "source": [
        "### Helping a Technology Firm After a Hack:\n",
        "A large technology company needs your help because they've recently been hacked! Fortunately, their forensic engineers were able to gather valuable data about the attack sessions, including details such as session duration, locations, typing speed, and more.\n",
        "\n",
        "**Features of the Hack Sessions**\n",
        "- Session_Connection_Time: The length of time each hacking session lasted, measured in minutes.\n",
        "- Bytes Transferred: The amount of data (in megabytes) transferred during the session.\n",
        "- Kali_Trace_Used: An indicator showing whether the hacker was using Kali Linux (a popular tool used for penetration testing and hacking).\n",
        "- -Servers_Corrupted: The number of servers that were compromised during the attack.\n",
        "- Pages_Corrupted: The number of pages that were illegally accessed during the attack.\n",
        "- Location: The geographical location where the attack appeared to originate from. (Note: This feature might be unreliable since hackers typically use VPNs to hide their true location.)\n",
        "- WPM_Typing_Speed: The hacker's estimated typing speed, calculated from the session logs.\n",
        "\n",
        "The technology firm suspects that there are three potential hackers involved in the attack. They are certain that the first two hackers were involved, but they are unsure if the third suspect had anything to do with the attacks.\n",
        "\n",
        "The hackers traded off attacks, meaning each hacker should have roughly the same number of sessions.\n",
        "\n",
        "Example: If there were 100 attacks, then:\n",
        "- In a 2-hacker situation: Each hacker should have around 50 attacks.\n",
        "- In a 3-hacker situation: Each hacker should have around 33 attacks.\n",
        "\n",
        "Your task is to help the company figure out:\n",
        "1. Whether or not the third suspect was involved.\n",
        "2. How many distinct groups (hackers) can be identified based on the collected session data."
      ],
      "metadata": {
        "id": "QirxfL2xwFUT"
      }
    },
    {
      "cell_type": "code",
      "execution_count": 1,
      "metadata": {
        "id": "pDIPLxRMPQn8"
      },
      "outputs": [],
      "source": [
        "from pyspark.sql import SparkSession\n",
        "from pyspark.ml.feature import VectorAssembler, StandardScaler\n",
        "from pyspark.ml.clustering import KMeans\n",
        "from pyspark.sql.functions import col\n",
        "import pandas as pd\n",
        "import matplotlib.pyplot as plt"
      ]
    },
    {
      "cell_type": "code",
      "source": [
        "spark = SparkSession.builder.appName(\"Homework 11\").getOrCreate()"
      ],
      "metadata": {
        "id": "xizz6ODOPkNl"
      },
      "execution_count": 2,
      "outputs": []
    },
    {
      "cell_type": "code",
      "source": [
        "url = \"https://raw.githubusercontent.com/oakabc/DEA/main/11%20-%20Clustering/hack_data.csv\"\n",
        "df = pd.read_csv(url)\n",
        "dataset = spark.createDataFrame(df)"
      ],
      "metadata": {
        "id": "mNtx9JqePnWx"
      },
      "execution_count": 3,
      "outputs": []
    },
    {
      "cell_type": "code",
      "source": [
        "dataset.show()"
      ],
      "metadata": {
        "colab": {
          "base_uri": "https://localhost:8080/"
        },
        "id": "nCT2W0CZPu7-",
        "outputId": "b331dc45-ab20-4654-d1a5-1b766c4ab8b0"
      },
      "execution_count": 4,
      "outputs": [
        {
          "output_type": "stream",
          "name": "stdout",
          "text": [
            "+-----------------------+-----------------+---------------+-----------------+---------------+--------------------+----------------+\n",
            "|Session_Connection_Time|Bytes Transferred|Kali_Trace_Used|Servers_Corrupted|Pages_Corrupted|            Location|WPM_Typing_Speed|\n",
            "+-----------------------+-----------------+---------------+-----------------+---------------+--------------------+----------------+\n",
            "|                    8.0|           391.09|              1|             2.96|            7.0|            Slovenia|           72.37|\n",
            "|                   20.0|           720.99|              0|             3.04|            9.0|British Virgin Is...|           69.08|\n",
            "|                   31.0|           356.32|              1|             3.71|            8.0|             Tokelau|           70.58|\n",
            "|                    2.0|           228.08|              1|             2.48|            8.0|             Bolivia|            70.8|\n",
            "|                   20.0|            408.5|              0|             3.57|            8.0|                Iraq|           71.28|\n",
            "|                    1.0|           390.69|              1|             2.79|            9.0|    Marshall Islands|           71.57|\n",
            "|                   18.0|           342.97|              1|              5.1|            7.0|             Georgia|           72.32|\n",
            "|                   22.0|           101.61|              1|             3.03|            7.0|         Timor-Leste|           72.03|\n",
            "|                   15.0|           275.53|              1|             3.53|            8.0|Palestinian Terri...|           70.17|\n",
            "|                   12.0|           424.83|              1|             2.53|            8.0|          Bangladesh|           69.99|\n",
            "|                   15.0|           249.09|              1|             3.39|            9.0|Northern Mariana ...|           70.77|\n",
            "|                   32.0|           242.48|              0|             4.24|            8.0|            Zimbabwe|           67.93|\n",
            "|                   23.0|           514.54|              0|             3.18|            8.0|         Isle of Man|           68.56|\n",
            "|                    9.0|           284.77|              0|             3.12|            9.0|Sao Tome and Prin...|           70.82|\n",
            "|                   27.0|           779.25|              1|             2.37|            8.0|              Greece|           72.73|\n",
            "|                   12.0|           307.31|              1|             3.22|            7.0|     Solomon Islands|           67.95|\n",
            "|                   21.0|           355.94|              1|              2.0|            7.0|       Guinea-Bissau|            72.0|\n",
            "|                   10.0|           372.65|              0|             3.33|            7.0|        Burkina Faso|           69.19|\n",
            "|                   20.0|           347.23|              1|             2.33|            7.0|            Mongolia|           70.41|\n",
            "|                   22.0|           456.57|              0|             1.52|            8.0|             Nigeria|           69.35|\n",
            "+-----------------------+-----------------+---------------+-----------------+---------------+--------------------+----------------+\n",
            "only showing top 20 rows\n",
            "\n"
          ]
        }
      ]
    },
    {
      "cell_type": "code",
      "source": [
        "dataset = dataset.withColumn(\"Kali_Trace_Used\", col(\"Kali_Trace_Used\").cast(\"int\"))"
      ],
      "metadata": {
        "id": "DNYDTS1JP-oM"
      },
      "execution_count": 5,
      "outputs": []
    },
    {
      "cell_type": "code",
      "source": [
        "features = ['Session_Connection_Time', 'Bytes Transferred', 'Kali_Trace_Used', 'Servers_Corrupted', 'Pages_Corrupted', 'WPM_Typing_Speed']\n",
        "vector_assembler = VectorAssembler(inputCols=features, outputCol=\"features\")\n",
        "dataset_vector = vector_assembler.transform(dataset)"
      ],
      "metadata": {
        "id": "WT4gppI-QDYk"
      },
      "execution_count": 6,
      "outputs": []
    },
    {
      "cell_type": "code",
      "source": [
        "dataset_vector.show()"
      ],
      "metadata": {
        "colab": {
          "base_uri": "https://localhost:8080/"
        },
        "id": "N8ZwpfWTl2U9",
        "outputId": "ac42a1d7-161f-4764-e159-086448d801ed"
      },
      "execution_count": 7,
      "outputs": [
        {
          "output_type": "stream",
          "name": "stdout",
          "text": [
            "+-----------------------+-----------------+---------------+-----------------+---------------+--------------------+----------------+--------------------+\n",
            "|Session_Connection_Time|Bytes Transferred|Kali_Trace_Used|Servers_Corrupted|Pages_Corrupted|            Location|WPM_Typing_Speed|            features|\n",
            "+-----------------------+-----------------+---------------+-----------------+---------------+--------------------+----------------+--------------------+\n",
            "|                    8.0|           391.09|              1|             2.96|            7.0|            Slovenia|           72.37|[8.0,391.09,1.0,2...|\n",
            "|                   20.0|           720.99|              0|             3.04|            9.0|British Virgin Is...|           69.08|[20.0,720.99,0.0,...|\n",
            "|                   31.0|           356.32|              1|             3.71|            8.0|             Tokelau|           70.58|[31.0,356.32,1.0,...|\n",
            "|                    2.0|           228.08|              1|             2.48|            8.0|             Bolivia|            70.8|[2.0,228.08,1.0,2...|\n",
            "|                   20.0|            408.5|              0|             3.57|            8.0|                Iraq|           71.28|[20.0,408.5,0.0,3...|\n",
            "|                    1.0|           390.69|              1|             2.79|            9.0|    Marshall Islands|           71.57|[1.0,390.69,1.0,2...|\n",
            "|                   18.0|           342.97|              1|              5.1|            7.0|             Georgia|           72.32|[18.0,342.97,1.0,...|\n",
            "|                   22.0|           101.61|              1|             3.03|            7.0|         Timor-Leste|           72.03|[22.0,101.61,1.0,...|\n",
            "|                   15.0|           275.53|              1|             3.53|            8.0|Palestinian Terri...|           70.17|[15.0,275.53,1.0,...|\n",
            "|                   12.0|           424.83|              1|             2.53|            8.0|          Bangladesh|           69.99|[12.0,424.83,1.0,...|\n",
            "|                   15.0|           249.09|              1|             3.39|            9.0|Northern Mariana ...|           70.77|[15.0,249.09,1.0,...|\n",
            "|                   32.0|           242.48|              0|             4.24|            8.0|            Zimbabwe|           67.93|[32.0,242.48,0.0,...|\n",
            "|                   23.0|           514.54|              0|             3.18|            8.0|         Isle of Man|           68.56|[23.0,514.54,0.0,...|\n",
            "|                    9.0|           284.77|              0|             3.12|            9.0|Sao Tome and Prin...|           70.82|[9.0,284.77,0.0,3...|\n",
            "|                   27.0|           779.25|              1|             2.37|            8.0|              Greece|           72.73|[27.0,779.25,1.0,...|\n",
            "|                   12.0|           307.31|              1|             3.22|            7.0|     Solomon Islands|           67.95|[12.0,307.31,1.0,...|\n",
            "|                   21.0|           355.94|              1|              2.0|            7.0|       Guinea-Bissau|            72.0|[21.0,355.94,1.0,...|\n",
            "|                   10.0|           372.65|              0|             3.33|            7.0|        Burkina Faso|           69.19|[10.0,372.65,0.0,...|\n",
            "|                   20.0|           347.23|              1|             2.33|            7.0|            Mongolia|           70.41|[20.0,347.23,1.0,...|\n",
            "|                   22.0|           456.57|              0|             1.52|            8.0|             Nigeria|           69.35|[22.0,456.57,0.0,...|\n",
            "+-----------------------+-----------------+---------------+-----------------+---------------+--------------------+----------------+--------------------+\n",
            "only showing top 20 rows\n",
            "\n"
          ]
        }
      ]
    },
    {
      "cell_type": "code",
      "source": [
        "scaler = StandardScaler(inputCol=\"features\", outputCol=\"scaled_features\")\n",
        "scaler_model = scaler.fit(dataset_vector)\n",
        "dataset_scaled = scaler_model.transform(dataset_vector)"
      ],
      "metadata": {
        "id": "NYToqscBwIru"
      },
      "execution_count": 9,
      "outputs": []
    },
    {
      "cell_type": "code",
      "source": [
        "# Run KMeans for both k=2 and k=3\n",
        "results = []\n",
        "for k in [2, 3]:\n",
        "    kmeans = KMeans(featuresCol=\"scaled_features\", k=k, seed=42)\n",
        "    model = kmeans.fit(dataset_scaled)\n",
        "    predictions = model.transform(dataset_scaled)\n",
        "\n",
        "    # Calculate WSSSE (Within Set Sum of Squared Errors)\n",
        "    cost = model.summary.trainingCost\n",
        "\n",
        "    # Get cluster counts and convert to pandas for analysis\n",
        "    cluster_counts = predictions.groupBy(\"prediction\").count().toPandas()\n",
        "\n",
        "    # Calculate evenness of distribution\n",
        "    total_sessions = predictions.count()\n",
        "    expected_count = total_sessions / k\n",
        "    variance = sum((row['count'] - expected_count)**2 for _, row in cluster_counts.iterrows())\n",
        "\n",
        "    results.append({\n",
        "        'k': k,\n",
        "        'cost': cost,\n",
        "        'cluster_counts': cluster_counts,\n",
        "        'variance': variance\n",
        "    })\n",
        "\n",
        "    print(f\"\\nK={k} Clustering Results:\")\n",
        "    print(f\"WSSSE (Cost): {cost:.2f}\")\n",
        "    print(\"Cluster distribution:\")\n",
        "    for _, row in cluster_counts.iterrows():\n",
        "        print(f\"  Cluster {row['prediction']}: {row['count']} sessions ({row['count']/total_sessions*100:.1f}%)\")"
      ],
      "metadata": {
        "colab": {
          "base_uri": "https://localhost:8080/"
        },
        "id": "Jhjz6Sz4QFn0",
        "outputId": "79f0ede3-d7f9-456f-b4b1-c4ea9646ddb2"
      },
      "execution_count": 10,
      "outputs": [
        {
          "output_type": "stream",
          "name": "stdout",
          "text": [
            "\n",
            "K=2 Clustering Results:\n",
            "WSSSE (Cost): 601.77\n",
            "Cluster distribution:\n",
            "  Cluster 0: 167 sessions (50.0%)\n",
            "  Cluster 1: 167 sessions (50.0%)\n",
            "\n",
            "K=3 Clustering Results:\n",
            "WSSSE (Cost): 434.76\n",
            "Cluster distribution:\n",
            "  Cluster 0: 167 sessions (50.0%)\n",
            "  Cluster 1: 88 sessions (26.3%)\n",
            "  Cluster 2: 79 sessions (23.7%)\n"
          ]
        }
      ]
    },
    {
      "cell_type": "code",
      "source": [
        "# Plot cost comparison\n",
        "k_values = [r['k'] for r in results]\n",
        "costs = [r['cost'] for r in results]\n",
        "plt.figure(figsize=(10, 4))\n",
        "plt.subplot(1, 2, 1)\n",
        "plt.plot(k_values, costs, 'o-')\n",
        "plt.xlabel('Number of Clusters (k)')\n",
        "plt.ylabel('WSSSE (Cost)')\n",
        "plt.title('Elbow Method')\n",
        "plt.xticks(k_values)"
      ],
      "metadata": {
        "colab": {
          "base_uri": "https://localhost:8080/",
          "height": 464
        },
        "id": "5yhyWcT8akcM",
        "outputId": "a180a096-32aa-4112-c145-2e306d9c4d50"
      },
      "execution_count": 11,
      "outputs": [
        {
          "output_type": "execute_result",
          "data": {
            "text/plain": [
              "([<matplotlib.axis.XTick at 0x79b861641050>,\n",
              "  <matplotlib.axis.XTick at 0x79b861639010>],\n",
              " [Text(2, 0, '2'), Text(3, 0, '3')])"
            ]
          },
          "metadata": {},
          "execution_count": 11
        },
        {
          "output_type": "display_data",
          "data": {
            "text/plain": [
              "<Figure size 1000x400 with 1 Axes>"
            ],
            "image/png": "[encoded data removed]"
          },
          "metadata": {}
        }
      ]
    },
    {
      "cell_type": "code",
      "source": [
        "# Analyze results to determine optimal k\n",
        "cost_improvement = (results[0]['cost'] - results[1]['cost']) / results[0]['cost']\n",
        "distribution_ratio = results[0]['variance'] / results[1]['variance']\n",
        "\n",
        "print(\"\\nAnalysis Metrics:\")\n",
        "print(f\"Cost improvement from k=2 to k=3: {cost_improvement:.2%}\")\n",
        "print(f\"Distribution variance ratio (k=2/k=3): {distribution_ratio:.2f}\")"
      ],
      "metadata": {
        "colab": {
          "base_uri": "https://localhost:8080/"
        },
        "id": "joGSm7WCam5M",
        "outputId": "dfb693b3-6733-4088-823f-89db31816ac9"
      },
      "execution_count": 12,
      "outputs": [
        {
          "output_type": "stream",
          "name": "stdout",
          "text": [
            "\n",
            "Analysis Metrics:\n",
            "Cost improvement from k=2 to k=3: 27.75%\n",
            "Distribution variance ratio (k=2/k=3): 0.00\n"
          ]
        }
      ]
    },
    {
      "cell_type": "code",
      "source": [
        "# Make final determination\n",
        "# Using cost improvement threshold and distribution evenness\n",
        "if cost_improvement > 0.15:  # Significant improvement in cost\n",
        "    optimal_k = 3\n",
        "    print(\"\\nConclusion: Three hackers were likely involved.\")\n",
        "    print(\"The third suspect was likely involved in the attacks.\")\n",
        "elif distribution_ratio > 1.5:  # k=3 has much more even distribution\n",
        "    optimal_k = 3\n",
        "    print(\"\\nConclusion: Three hackers were likely involved.\")\n",
        "    print(\"The third suspect was likely involved in the attacks.\")\n",
        "else:\n",
        "    optimal_k = 2\n",
        "    print(\"\\nConclusion: Two hackers were likely involved.\")\n",
        "    print(\"The third suspect was likely NOT involved in the attacks.\")"
      ],
      "metadata": {
        "colab": {
          "base_uri": "https://localhost:8080/"
        },
        "id": "uhD1m8TqapdF",
        "outputId": "9c6be16d-8a76-4c80-c148-1fbe7b07566b"
      },
      "execution_count": 13,
      "outputs": [
        {
          "output_type": "stream",
          "name": "stdout",
          "text": [
            "\n",
            "Conclusion: Three hackers were likely involved.\n",
            "The third suspect was likely involved in the attacks.\n"
          ]
        }
      ]
    },
    {
      "cell_type": "code",
      "source": [
        "spark.stop()"
      ],
      "metadata": {
        "id": "9wRQOQjMavmt"
      },
      "execution_count": 14,
      "outputs": []
    }
  ]
}