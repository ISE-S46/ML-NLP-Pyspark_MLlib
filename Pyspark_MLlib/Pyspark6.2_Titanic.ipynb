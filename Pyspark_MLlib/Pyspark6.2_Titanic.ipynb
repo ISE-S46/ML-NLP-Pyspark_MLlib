{
  "nbformat": 4,
  "nbformat_minor": 0,
  "metadata": {
    "colab": {
      "provenance": []
    },
    "kernelspec": {
      "name": "python3",
      "display_name": "Python 3"
    },
    "language_info": {
      "name": "python"
    }
  },
  "cells": [
    {
      "cell_type": "markdown",
      "source": [
        "### Titanic\n"
      ],
      "metadata": {
        "id": "oa3Uyy0AMmAC"
      }
    },
    {
      "cell_type": "code",
      "execution_count": 1,
      "metadata": {
        "id": "XNd91FW_iSIz"
      },
      "outputs": [],
      "source": [
        "from pyspark.sql import SparkSession\n",
        "\n",
        "spark = SparkSession.builder.appName(\"Titanic\").getOrCreate()"
      ]
    },
    {
      "cell_type": "code",
      "source": [
        "df = spark.read.csv('Datasets/titanic.csv', header=True, inferSchema=True)\n",
        "df.show()"
      ],
      "metadata": {
        "colab": {
          "base_uri": "https://localhost:8080/"
        },
        "id": "DWQsmk_Ejpj4",
        "outputId": "7db88c50-355b-4235-b1b6-92147e8b7f53"
      },
      "execution_count": 3,
      "outputs": [
        {
          "output_type": "stream",
          "name": "stdout",
          "text": [
            "+-----------+--------+------+--------------------+------+----+-----+-----+----------------+-------+-----+--------+\n",
            "|PassengerId|Survived|Pclass|                Name|   Sex| Age|SibSp|Parch|          Ticket|   Fare|Cabin|Embarked|\n",
            "+-----------+--------+------+--------------------+------+----+-----+-----+----------------+-------+-----+--------+\n",
            "|          1|       0|     3|Braund, Mr. Owen ...|  male|22.0|    1|    0|       A/5 21171|   7.25| NULL|       S|\n",
            "|          2|       1|     1|Cumings, Mrs. Joh...|female|38.0|    1|    0|        PC 17599|71.2833|  C85|       C|\n",
            "|          3|       1|     3|Heikkinen, Miss. ...|female|26.0|    0|    0|STON/O2. 3101282|  7.925| NULL|       S|\n",
            "|          4|       1|     1|Futrelle, Mrs. Ja...|female|35.0|    1|    0|          113803|   53.1| C123|       S|\n",
            "|          5|       0|     3|Allen, Mr. Willia...|  male|35.0|    0|    0|          373450|   8.05| NULL|       S|\n",
            "|          6|       0|     3|    Moran, Mr. James|  male|NULL|    0|    0|          330877| 8.4583| NULL|       Q|\n",
            "|          7|       0|     1|McCarthy, Mr. Tim...|  male|54.0|    0|    0|           17463|51.8625|  E46|       S|\n",
            "|          8|       0|     3|Palsson, Master. ...|  male| 2.0|    3|    1|          349909| 21.075| NULL|       S|\n",
            "|          9|       1|     3|Johnson, Mrs. Osc...|female|27.0|    0|    2|          347742|11.1333| NULL|       S|\n",
            "|         10|       1|     2|Nasser, Mrs. Nich...|female|14.0|    1|    0|          237736|30.0708| NULL|       C|\n",
            "|         11|       1|     3|Sandstrom, Miss. ...|female| 4.0|    1|    1|         PP 9549|   16.7|   G6|       S|\n",
            "|         12|       1|     1|Bonnell, Miss. El...|female|58.0|    0|    0|          113783|  26.55| C103|       S|\n",
            "|         13|       0|     3|Saundercock, Mr. ...|  male|20.0|    0|    0|       A/5. 2151|   8.05| NULL|       S|\n",
            "|         14|       0|     3|Andersson, Mr. An...|  male|39.0|    1|    5|          347082| 31.275| NULL|       S|\n",
            "|         15|       0|     3|Vestrom, Miss. Hu...|female|14.0|    0|    0|          350406| 7.8542| NULL|       S|\n",
            "|         16|       1|     2|Hewlett, Mrs. (Ma...|female|55.0|    0|    0|          248706|   16.0| NULL|       S|\n",
            "|         17|       0|     3|Rice, Master. Eugene|  male| 2.0|    4|    1|          382652| 29.125| NULL|       Q|\n",
            "|         18|       1|     2|Williams, Mr. Cha...|  male|NULL|    0|    0|          244373|   13.0| NULL|       S|\n",
            "|         19|       0|     3|Vander Planke, Mr...|female|31.0|    1|    0|          345763|   18.0| NULL|       S|\n",
            "|         20|       1|     3|Masselmani, Mrs. ...|female|NULL|    0|    0|            2649|  7.225| NULL|       C|\n",
            "+-----------+--------+------+--------------------+------+----+-----+-----+----------------+-------+-----+--------+\n",
            "only showing top 20 rows\n",
            "\n"
          ]
        }
      ]
    },
    {
      "cell_type": "code",
      "source": [
        "df.printSchema()"
      ],
      "metadata": {
        "colab": {
          "base_uri": "https://localhost:8080/"
        },
        "id": "djteXHrqkRvB",
        "outputId": "3481cdbf-3237-49ad-a3ac-38ac0a257710"
      },
      "execution_count": 4,
      "outputs": [
        {
          "output_type": "stream",
          "name": "stdout",
          "text": [
            "root\n",
            " |-- PassengerId: integer (nullable = true)\n",
            " |-- Survived: integer (nullable = true)\n",
            " |-- Pclass: integer (nullable = true)\n",
            " |-- Name: string (nullable = true)\n",
            " |-- Sex: string (nullable = true)\n",
            " |-- Age: double (nullable = true)\n",
            " |-- SibSp: integer (nullable = true)\n",
            " |-- Parch: integer (nullable = true)\n",
            " |-- Ticket: string (nullable = true)\n",
            " |-- Fare: double (nullable = true)\n",
            " |-- Cabin: string (nullable = true)\n",
            " |-- Embarked: string (nullable = true)\n",
            "\n"
          ]
        }
      ]
    },
    {
      "cell_type": "code",
      "source": [
        "print(df.columns)"
      ],
      "metadata": {
        "colab": {
          "base_uri": "https://localhost:8080/"
        },
        "id": "nT9IX0fSksHN",
        "outputId": "2c417674-a0db-4024-e83d-4a9e8933af76"
      },
      "execution_count": 5,
      "outputs": [
        {
          "output_type": "stream",
          "name": "stdout",
          "text": [
            "['PassengerId', 'Survived', 'Pclass', 'Name', 'Sex', 'Age', 'SibSp', 'Parch', 'Ticket', 'Fare', 'Cabin', 'Embarked']\n"
          ]
        }
      ]
    },
    {
      "cell_type": "markdown",
      "source": [
        "Select columns that are useful to build a model"
      ],
      "metadata": {
        "id": "zo-3Sot6NCSY"
      }
    },
    {
      "cell_type": "code",
      "source": [
        "my_cols = df.select(['Survived', 'Pclass', 'Sex', 'Age', 'SibSp', 'Parch','Fare','Embarked' ])"
      ],
      "metadata": {
        "id": "muz-7v8BkxJu"
      },
      "execution_count": 6,
      "outputs": []
    },
    {
      "cell_type": "code",
      "source": [
        "# drop rows which contain NULL\n",
        "my_final_data = my_cols.na.drop()\n",
        "my_final_data.count() # 712"
      ],
      "metadata": {
        "colab": {
          "base_uri": "https://localhost:8080/"
        },
        "id": "WNgh--SloB7L",
        "outputId": "03cf5b5b-ae33-4cd5-b11f-3fc0e5d4d217"
      },
      "execution_count": 7,
      "outputs": [
        {
          "output_type": "execute_result",
          "data": {
            "text/plain": [
              "712"
            ]
          },
          "metadata": {},
          "execution_count": 7
        }
      ]
    },
    {
      "cell_type": "code",
      "source": [
        "# Convert category data into numbers\n",
        "\n",
        "from pyspark.ml.feature import VectorAssembler, VectorIndexer, OneHotEncoder, StringIndexer"
      ],
      "metadata": {
        "id": "_LNTGpwzoEzj"
      },
      "execution_count": 8,
      "outputs": []
    },
    {
      "cell_type": "markdown",
      "source": [
        "**StringIndexer**\n",
        "\n",
        "converts categorical string values into numerical indices. It assigns a unique numeric index to each category. The most frequent category gets index 0, the second most frequent gets index 1, and so on.\n",
        "\n",
        "**OneHotEncoder**\n",
        "\n",
        "The OneHotEncoder converts the indexed categorical values (from StringIndexer) into one-hot encoded vectors. Converts categorical indices into a binary vector. The vector has 1 in the corresponding category position, and 0 elsewhere.\n",
        "\n",
        "**One-hot encoding**\n",
        "\n",
        "[\"red\", \"green\", \"blue\"] =\n",
        "\n",
        "\"red\" → [1, 0, 0]\n",
        "\n",
        "\"blue\" → [0, 1, 0]\n",
        "\n",
        "\"green\" → [0, 0, 1]\n",
        "\n",
        "**Sparse Vector Representation**\n",
        "- Dense representation of one-hot encoded data: [0, 0, 1, 0, 0] (5 elements stored).\n",
        "- Sparse representation: (5, [2], [1]) (only the size, index of 1, and the value 1 are stored).\n",
        "\n",
        "(Size, [indices], [values])\n",
        "\n",
        "Example:\n",
        "\n",
        "(3, [0], [1.0]) → Set index 0 to 1.0.\n",
        "\n",
        "(3, [1], [1.0]) → Set index 1 to 1.0.\n",
        "\n",
        "(3, [], []) → No change\n",
        "\n",
        "(3, [2], [1.0]) → Set index 2 to 1.0."
      ],
      "metadata": {
        "id": "m3FNBWcvPaeQ"
      }
    },
    {
      "cell_type": "markdown",
      "source": [
        "Convert ‘Sex’ to one-hot encode"
      ],
      "metadata": {
        "id": "2sK0IZSqPOLq"
      }
    },
    {
      "cell_type": "code",
      "source": [
        "gender_indexer = StringIndexer(inputCol='Sex', outputCol='SexIndex')\n",
        "gender_encoder = OneHotEncoder(inputCol='SexIndex', outputCol='SexVec')"
      ],
      "metadata": {
        "id": "Juk1llA9oF0i"
      },
      "execution_count": 9,
      "outputs": []
    },
    {
      "cell_type": "markdown",
      "source": [
        "Convert ‘Embark’ to one-hot encode"
      ],
      "metadata": {
        "id": "-Bl6x4cPPPAd"
      }
    },
    {
      "cell_type": "code",
      "source": [
        "embark_indexer = StringIndexer(inputCol='Embarked', outputCol='EmbarkIndex')\n",
        "embark_encoder = OneHotEncoder(inputCol='EmbarkIndex', outputCol = 'EmbarkVec')"
      ],
      "metadata": {
        "id": "MJH_NfvWpzCJ"
      },
      "execution_count": 10,
      "outputs": []
    },
    {
      "cell_type": "code",
      "source": [
        "assembler = VectorAssembler(\n",
        "   inputCols=['Pclass','SexVec','EmbarkVec','Age','SibSp', 'Parch', 'Fare'],\n",
        "   outputCol='features'\n",
        "   )"
      ],
      "metadata": {
        "id": "mGwWY5Vhp3Ck"
      },
      "execution_count": 11,
      "outputs": []
    },
    {
      "cell_type": "markdown",
      "source": [
        "**Using a Pipeline**\n",
        "\n",
        "The Pipeline in PySpark MLlib is used to streamline machine learning workflows by chaining multiple transformations and estimators together into a single pipeline object.\n",
        "- Automates Data Transformation Steps\n",
        "- Ensures Consistent Processing Across Train & Test Data\n",
        "- Easier to Manage Complex ML Workflows\n",
        "- Reduces Manual Repetitions\n",
        "\n",
        "A Pipeline ensures that all transformations happen in sequence before feeding data to a model.\n"
      ],
      "metadata": {
        "id": "GLIboudVRMF6"
      }
    },
    {
      "cell_type": "code",
      "source": [
        "from pyspark.ml import Pipeline"
      ],
      "metadata": {
        "id": "YHQz_qjvp6Iw"
      },
      "execution_count": 12,
      "outputs": []
    },
    {
      "cell_type": "code",
      "source": [
        "from pyspark.ml.classification import LogisticRegression\n",
        "log_reg_titanic = LogisticRegression(featuresCol = 'features', labelCol='Survived')"
      ],
      "metadata": {
        "id": "OdBm0MZ_p9Va"
      },
      "execution_count": 13,
      "outputs": []
    },
    {
      "cell_type": "code",
      "source": [
        "pipeline = Pipeline(\n",
        "  stages = [\n",
        "    gender_indexer,\n",
        "    embark_indexer,\n",
        "    gender_encoder,\n",
        "    embark_encoder,\n",
        "    assembler,\n",
        "    log_reg_titanic\n",
        "  ]\n",
        ")"
      ],
      "metadata": {
        "id": "O-FaxpnIqCDn"
      },
      "execution_count": 14,
      "outputs": []
    },
    {
      "cell_type": "code",
      "source": [
        "train_data, test_data = my_final_data.randomSplit([0.7,0.3])"
      ],
      "metadata": {
        "id": "ni7Dtzb4qb1I"
      },
      "execution_count": 15,
      "outputs": []
    },
    {
      "cell_type": "code",
      "source": [
        "fit_model = pipeline.fit(train_data)"
      ],
      "metadata": {
        "id": "7P33GGNtqfTY"
      },
      "execution_count": 16,
      "outputs": []
    },
    {
      "cell_type": "code",
      "source": [
        "results = fit_model.transform(test_data) # you will get prediction column\n",
        "results.select('Survived','prediction').show()"
      ],
      "metadata": {
        "colab": {
          "base_uri": "https://localhost:8080/"
        },
        "id": "Ia7D9uZVsiJ8",
        "outputId": "5dbbfd26-0664-4e5d-f77a-774aa05e60bd"
      },
      "execution_count": 17,
      "outputs": [
        {
          "output_type": "stream",
          "name": "stdout",
          "text": [
            "+--------+----------+\n",
            "|Survived|prediction|\n",
            "+--------+----------+\n",
            "|       0|       1.0|\n",
            "|       0|       1.0|\n",
            "|       0|       1.0|\n",
            "|       0|       1.0|\n",
            "|       0|       1.0|\n",
            "|       0|       1.0|\n",
            "|       0|       0.0|\n",
            "|       0|       0.0|\n",
            "|       0|       0.0|\n",
            "|       0|       0.0|\n",
            "|       0|       0.0|\n",
            "|       0|       0.0|\n",
            "|       0|       0.0|\n",
            "|       0|       1.0|\n",
            "|       0|       0.0|\n",
            "|       0|       0.0|\n",
            "|       0|       0.0|\n",
            "|       0|       0.0|\n",
            "|       0|       0.0|\n",
            "|       0|       0.0|\n",
            "+--------+----------+\n",
            "only showing top 20 rows\n",
            "\n"
          ]
        }
      ]
    },
    {
      "cell_type": "code",
      "source": [
        "from pyspark.ml.evaluation import BinaryClassificationEvaluator"
      ],
      "metadata": {
        "id": "69zYMxrxsjrp"
      },
      "execution_count": 18,
      "outputs": []
    },
    {
      "cell_type": "code",
      "source": [
        "my_eval = BinaryClassificationEvaluator(rawPredictionCol='prediction',labelCol='Survived')\n",
        "my_eval.evaluate(results) # AUC-ROC"
      ],
      "metadata": {
        "colab": {
          "base_uri": "https://localhost:8080/"
        },
        "id": "EJLe6SyOsnj5",
        "outputId": "a1954cae-47f6-4c24-e657-c70a3e1d8f7f"
      },
      "execution_count": 19,
      "outputs": [
        {
          "output_type": "execute_result",
          "data": {
            "text/plain": [
              "0.8154121863799283"
            ]
          },
          "metadata": {},
          "execution_count": 19
        }
      ]
    },
    {
      "cell_type": "markdown",
      "source": [
        "Show the model summary"
      ],
      "metadata": {
        "id": "zIGv3H0qRqXm"
      }
    },
    {
      "cell_type": "code",
      "source": [
        "# Extract trained logistic regression model\n",
        "log_reg_model = fit_model.stages[-1] #log_reg_titanic\n",
        "\n",
        "# Print Coefficients & Intercept\n",
        "print(\"Coefficients: \", log_reg_model.coefficients)\n",
        "print(\"Intercept: \", log_reg_model.intercept)\n",
        "\n",
        "# Get Model Summary\n",
        "summary = log_reg_model.summary\n",
        "\n",
        "# Print Model Performance Metrics (evaluate by train_data)\n",
        "print(\"Accuracy: \", summary.accuracy)\n",
        "print(\"AUC: \", summary.areaUnderROC)\n",
        "print(\"Precision by Label: \", summary.precisionByLabel)\n",
        "print(\"Recall by Label: \", summary.recallByLabel)"
      ],
      "metadata": {
        "colab": {
          "base_uri": "https://localhost:8080/"
        },
        "id": "eYL5BHlnsowQ",
        "outputId": "c4c1259d-0323-44f7-df4b-2d0b166733bd"
      },
      "execution_count": 20,
      "outputs": [
        {
          "output_type": "stream",
          "name": "stdout",
          "text": [
            "Coefficients:  [-1.1239883285904049,-2.44498264874124,0.529193482908619,1.158134802091996,-0.0452707852503392,-0.2530548514302138,-0.17551833814822707,0.0015982976883840217]\n",
            "Intercept:  4.439466795243761\n",
            "Accuracy:  0.7913223140495868\n",
            "AUC:  0.8470055895661432\n",
            "Precision by Label:  [0.8092105263157895, 0.7611111111111111]\n",
            "Recall by Label:  [0.8512110726643599, 0.7025641025641025]\n"
          ]
        }
      ]
    },
    {
      "cell_type": "markdown",
      "source": [
        "**Implication**\n",
        "\n",
        "![Implication](Img/TitanicImplication.png)\n",
        "\n",
        "SexVec (gender) has the most negative impact → Males were less likely to survive.\n",
        "\n",
        "Pclass negatively affects survival → Lower-class passengers had a lower survival rate.\n",
        "\n",
        "Fare and EmbarkVec have positive impacts → Higher fares & embarking from Cherbourg were associated with higher survival.\n",
        "\n",
        "Age has a positive impact → Older people survived more in this model (could be dataset bias).\n",
        "\n",
        "SibSp and Parch have negative effects → Having more family members on board slightly reduced survival."
      ],
      "metadata": {
        "id": "5irOYGjUR0Tc"
      }
    }
  ]
}