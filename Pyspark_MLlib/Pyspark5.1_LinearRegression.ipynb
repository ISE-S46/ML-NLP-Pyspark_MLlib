{
  "nbformat": 4,
  "nbformat_minor": 0,
  "metadata": {
    "colab": {
      "provenance": []
    },
    "kernelspec": {
      "name": "python3",
      "display_name": "Python 3"
    },
    "language_info": {
      "name": "python"
    }
  },
  "cells": [
    {
      "cell_type": "markdown",
      "source": [
        "## Data format for MLlib"
      ],
      "metadata": {
        "id": "QM_rSYtmBxUx"
      }
    },
    {
      "cell_type": "markdown",
      "source": [
        "**Example of Supervised Learning **"
      ],
      "metadata": {
        "id": "61T1yJwmGEXQ"
      }
    },
    {
      "cell_type": "code",
      "source": [
        "from pyspark.ml.linalg import Vectors\n",
        "from pyspark.sql import SparkSession\n",
        "from pyspark.sql import Row\n",
        "# Initialize Spark Session\n",
        "spark = SparkSession.builder.appName(\"MLlibDataFormat\").getOrCreate()\n",
        "# Example data\n",
        "data = [\n",
        "    Row(label=1.0, features=Vectors.dense([2.5, 3.1, 0.7])),\n",
        "    Row(label=0.0, features=Vectors.dense([1.2, 0.5, 2.3])),\n",
        "    Row(label=1.0, features=Vectors.dense([3.4, 2.2, 1.1]))\n",
        "]\n",
        "# Create DataFrame\n",
        "df = spark.createDataFrame(data)\n",
        "df.show()"
      ],
      "metadata": {
        "colab": {
          "base_uri": "https://localhost:8080/"
        },
        "id": "9fy5O0rEGFd5",
        "outputId": "2f272890-ba16-4b73-f887-443e72aca502"
      },
      "execution_count": 2,
      "outputs": [
        {
          "output_type": "stream",
          "name": "stdout",
          "text": [
            "+-----+-------------+\n",
            "|label|     features|\n",
            "+-----+-------------+\n",
            "|  1.0|[2.5,3.1,0.7]|\n",
            "|  0.0|[1.2,0.5,2.3]|\n",
            "|  1.0|[3.4,2.2,1.1]|\n",
            "+-----+-------------+\n",
            "\n"
          ]
        }
      ]
    },
    {
      "cell_type": "markdown",
      "source": [
        "**Feature Transformation for Supervised Learning**"
      ],
      "metadata": {
        "id": "BuEEpd27B1FL"
      }
    },
    {
      "cell_type": "code",
      "execution_count": 3,
      "metadata": {
        "colab": {
          "base_uri": "https://localhost:8080/"
        },
        "id": "8-2ErfQce2b_",
        "outputId": "e6229c04-8372-428b-879f-76f235b1497b"
      },
      "outputs": [
        {
          "output_type": "stream",
          "name": "stdout",
          "text": [
            "+-----+----+--------+---+\n",
            "|label|size|bedrooms|age|\n",
            "+-----+----+--------+---+\n",
            "|  500|2000|       3| 15|\n",
            "|  600|2500|       4| 10|\n",
            "|  450|1800|       2| 20|\n",
            "+-----+----+--------+---+\n",
            "\n"
          ]
        }
      ],
      "source": [
        "from pyspark.sql import SparkSession\n",
        "from pyspark.sql import Row\n",
        "\n",
        "spark = SparkSession.builder.appName(\"MLlibFeatureTransformation\").getOrCreate()\n",
        "\n",
        "data = [\n",
        "    Row(label=500, size=2000, bedrooms=3, age=15),\n",
        "    Row(label=600, size=2500, bedrooms=4, age=10),\n",
        "    Row(label=450, size=1800, bedrooms=2, age=20)\n",
        "]\n",
        "\n",
        "df = spark.createDataFrame(data)\n",
        "df.show()"
      ]
    },
    {
      "cell_type": "markdown",
      "source": [
        "**Applying VectorAssembler**\n",
        "\n",
        "VectorAssembler is a feature transformer in PySpark that combines multiple input columns into a single feature vector column. It is essential for preparing data for machine learning models in PySpark."
      ],
      "metadata": {
        "id": "leLTvHx3GRwY"
      }
    },
    {
      "cell_type": "code",
      "source": [
        "from pyspark.ml.feature import VectorAssembler\n",
        "assembler = VectorAssembler(inputCols=[\"size\", \"bedrooms\", \"age\"], outputCol=\"features\")\n",
        "df_transformed = assembler.transform(df).select(\"label\", \"features\")\n",
        "df_transformed.show(truncate=False)"
      ],
      "metadata": {
        "colab": {
          "base_uri": "https://localhost:8080/"
        },
        "id": "CYy0MkUbg_N1",
        "outputId": "11e9c968-06b0-453d-bda4-12dfba35a004"
      },
      "execution_count": 4,
      "outputs": [
        {
          "output_type": "stream",
          "name": "stdout",
          "text": [
            "+-----+-----------------+\n",
            "|label|features         |\n",
            "+-----+-----------------+\n",
            "|500  |[2000.0,3.0,15.0]|\n",
            "|600  |[2500.0,4.0,10.0]|\n",
            "|450  |[1800.0,2.0,20.0]|\n",
            "+-----+-----------------+\n",
            "\n"
          ]
        }
      ]
    },
    {
      "cell_type": "code",
      "source": [
        "spark.stop()"
      ],
      "metadata": {
        "id": "7UAybAwRhC_u"
      },
      "execution_count": 5,
      "outputs": []
    },
    {
      "cell_type": "markdown",
      "source": [
        "### LIBSVM\n",
        "\n",
        "simple and efficient text-based format used for storing sparse data in machine learning, especially for Support Vector Machines (SVMs).\n",
        "\n",
        "Structure of LIBSVM Format - Each line represents one data instance (sample) and follows this format:\n",
        "\n",
        "label feature_index_1:feature_value_1 feature_index_2:feature_value_2 ... feature_index_n:feature_value_n\n",
        "\n",
        "-9.490009878824548 1:0.4551273600657362 2:0.36644694351969087 3:-0.38256108933468047 4:-0.4458430198517267 5:0.33109790358914726 6:0.8067445293443565 7:-0.2624341731773887 8:-0.44850386111659524 9:-0.07269284838169332 10:0.5658035575800715\n"
      ],
      "metadata": {
        "id": "w9MjDM-PG1MC"
      }
    },
    {
      "cell_type": "markdown",
      "source": [
        "### Linear Regression example with LIBSVM\n",
        "\n",
        "**Linear Regression** is a statistical method used to model the relationship between a dependent variable (often called the target or response variable) and one or more independent variables\n",
        "\n",
        "The goal of linear regression is to find the best-fitting straight line (or hyperplane in higher dimensions) that describes the relationship between the independent variables (x) and the dependent variable (y).\n"
      ],
      "metadata": {
        "id": "CnCogtS4HaZA"
      }
    },
    {
      "cell_type": "code",
      "source": [
        "from pyspark.sql import SparkSession\n",
        "spark = SparkSession.builder.appName(\"Linear Regression\").getOrCreate()\n",
        "from pyspark.ml.regression import LinearRegression"
      ],
      "metadata": {
        "id": "2HUCkUW_G2hr"
      },
      "execution_count": 6,
      "outputs": []
    },
    {
      "cell_type": "code",
      "source": [
        "training = spark.read.format('libsvm').load('Datasets/sample_linear_regression_data.txt')\n",
        "training.show()"
      ],
      "metadata": {
        "colab": {
          "base_uri": "https://localhost:8080/"
        },
        "id": "zTeNHpWGHjy5",
        "outputId": "bddec2e7-9070-4e97-808c-8a6428e31173"
      },
      "execution_count": 7,
      "outputs": [
        {
          "output_type": "stream",
          "name": "stdout",
          "text": [
            "+-------------------+--------------------+\n",
            "|              label|            features|\n",
            "+-------------------+--------------------+\n",
            "| -9.490009878824548|(10,[0,1,2,3,4,5,...|\n",
            "| 0.2577820163584905|(10,[0,1,2,3,4,5,...|\n",
            "| -4.438869807456516|(10,[0,1,2,3,4,5,...|\n",
            "|-19.782762789614537|(10,[0,1,2,3,4,5,...|\n",
            "| -7.966593841555266|(10,[0,1,2,3,4,5,...|\n",
            "| -7.896274316726144|(10,[0,1,2,3,4,5,...|\n",
            "| -8.464803554195287|(10,[0,1,2,3,4,5,...|\n",
            "| 2.1214592666251364|(10,[0,1,2,3,4,5,...|\n",
            "| 1.0720117616524107|(10,[0,1,2,3,4,5,...|\n",
            "|-13.772441561702871|(10,[0,1,2,3,4,5,...|\n",
            "| -5.082010756207233|(10,[0,1,2,3,4,5,...|\n",
            "|  7.887786536531237|(10,[0,1,2,3,4,5,...|\n",
            "| 14.323146365332388|(10,[0,1,2,3,4,5,...|\n",
            "|-20.057482615789212|(10,[0,1,2,3,4,5,...|\n",
            "|-0.8995693247765151|(10,[0,1,2,3,4,5,...|\n",
            "| -19.16829262296376|(10,[0,1,2,3,4,5,...|\n",
            "|  5.601801561245534|(10,[0,1,2,3,4,5,...|\n",
            "|-3.2256352187273354|(10,[0,1,2,3,4,5,...|\n",
            "| 1.5299675726687754|(10,[0,1,2,3,4,5,...|\n",
            "| -0.250102447941961|(10,[0,1,2,3,4,5,...|\n",
            "+-------------------+--------------------+\n",
            "only showing top 20 rows\n",
            "\n"
          ]
        }
      ]
    },
    {
      "cell_type": "markdown",
      "source": [
        "Fit training data to Linear Regression equation\n"
      ],
      "metadata": {
        "id": "osJZfFXGJWbS"
      }
    },
    {
      "cell_type": "code",
      "source": [
        "lr = LinearRegression(featuresCol='features', labelCol = 'label', predictionCol='prediction')\n",
        "lr = LinearRegression()\n",
        "\n",
        "lrModel = lr.fit(training)"
      ],
      "metadata": {
        "id": "RUPXbphMj6Ge"
      },
      "execution_count": 8,
      "outputs": []
    },
    {
      "cell_type": "markdown",
      "source": [
        "Display coefficient"
      ],
      "metadata": {
        "id": "tls_e-fNJZ48"
      }
    },
    {
      "cell_type": "code",
      "source": [
        "lrModel.coefficients"
      ],
      "metadata": {
        "colab": {
          "base_uri": "https://localhost:8080/"
        },
        "id": "4Wu_8GBmoqlE",
        "outputId": "48add703-a9dd-448e-d4b6-f22a5541ae69"
      },
      "execution_count": 9,
      "outputs": [
        {
          "output_type": "execute_result",
          "data": {
            "text/plain": [
              "DenseVector([0.0073, 0.8314, -0.8095, 2.4412, 0.5192, 1.1535, -0.2989, -0.5129, -0.6197, 0.6956])"
            ]
          },
          "metadata": {},
          "execution_count": 9
        }
      ]
    },
    {
      "cell_type": "markdown",
      "source": [
        "Display intercept"
      ],
      "metadata": {
        "id": "rUwHjzCPJb-3"
      }
    },
    {
      "cell_type": "code",
      "source": [
        "lrModel.intercept"
      ],
      "metadata": {
        "colab": {
          "base_uri": "https://localhost:8080/"
        },
        "id": "zy_2OYZ-ouLV",
        "outputId": "91e7e075-31c0-4bfc-f44e-ecdf0fcc452f"
      },
      "execution_count": 10,
      "outputs": [
        {
          "output_type": "execute_result",
          "data": {
            "text/plain": [
              "0.14228558260358093"
            ]
          },
          "metadata": {},
          "execution_count": 10
        }
      ]
    },
    {
      "cell_type": "code",
      "source": [
        "# Print the coefficients and intercept for linear regression\n",
        "print(\"Coefficients: {}\".format(str(lrModel.coefficients))) # For each feature...\n",
        "print('\\n')\n",
        "print(\"Intercept:{}\".format(str(lrModel.intercept)))"
      ],
      "metadata": {
        "colab": {
          "base_uri": "https://localhost:8080/"
        },
        "id": "nTcDFZeDo0qJ",
        "outputId": "62d6f2b3-bbc5-4a34-a96e-2e3db606a400"
      },
      "execution_count": 11,
      "outputs": [
        {
          "output_type": "stream",
          "name": "stdout",
          "text": [
            "Coefficients: [0.0073350710225801715,0.8313757584337543,-0.8095307954684084,2.441191686884721,0.5191713795290002,1.1534591903547016,-0.2989124112808717,-0.5128514186201779,-0.619712827067017,0.695615180432293]\n",
            "\n",
            "\n",
            "Intercept:0.14228558260358093\n"
          ]
        }
      ]
    },
    {
      "cell_type": "code",
      "source": [
        "# Summarize the model over the training set and print out some metrics\n",
        "trainingSummary = lrModel.summary"
      ],
      "metadata": {
        "id": "ZFRYoE5-pmMP"
      },
      "execution_count": 12,
      "outputs": []
    },
    {
      "cell_type": "code",
      "source": [
        "trainingSummary.residuals.show()\n",
        "print(\"RMSE: {}\".format(trainingSummary.rootMeanSquaredError))\n",
        "print(\"r2: {}\".format(trainingSummary.r2))"
      ],
      "metadata": {
        "colab": {
          "base_uri": "https://localhost:8080/"
        },
        "id": "hA1-ftqupttC",
        "outputId": "5e06c06b-08a1-4f60-9a15-8787d191c461"
      },
      "execution_count": 13,
      "outputs": [
        {
          "output_type": "stream",
          "name": "stdout",
          "text": [
            "+-------------------+\n",
            "|          residuals|\n",
            "+-------------------+\n",
            "|-11.011130022096554|\n",
            "| 0.9236590911176535|\n",
            "|-4.5957401897776675|\n",
            "|  -20.4201774575836|\n",
            "|-10.339160314788181|\n",
            "|-5.9552091439610555|\n",
            "|-10.726906349283922|\n",
            "| 2.1228071931912336|\n",
            "|  4.077122222293811|\n",
            "|-17.316168071241652|\n",
            "| -4.593044343959059|\n",
            "|  6.380476690746936|\n",
            "| 11.320566035059846|\n",
            "|-20.721971774534094|\n",
            "| -2.736692773777401|\n",
            "| -16.66886934252847|\n",
            "|  8.242186378876315|\n",
            "|-1.3723486332690233|\n",
            "|-0.7060332131264666|\n",
            "|-1.1591135969994064|\n",
            "+-------------------+\n",
            "only showing top 20 rows\n",
            "\n",
            "RMSE: 10.16309157133015\n",
            "r2: 0.027839179518600154\n"
          ]
        }
      ]
    },
    {
      "cell_type": "markdown",
      "source": [
        "#### Train/Test split"
      ],
      "metadata": {
        "id": "akSAQsU-KSXO"
      }
    },
    {
      "cell_type": "code",
      "source": [
        "all_data = spark.read.format('libsvm').load('Datasets/sample_linear_regression_data.txt')\n",
        "train_data,test_data = all_data.randomSplit([0.7,0.3])"
      ],
      "metadata": {
        "id": "6pLu4palp9bb"
      },
      "execution_count": 15,
      "outputs": []
    },
    {
      "cell_type": "code",
      "source": [
        "all_data.describe().show()"
      ],
      "metadata": {
        "colab": {
          "base_uri": "https://localhost:8080/"
        },
        "id": "AynrQtOBKfVj",
        "outputId": "49570579-c021-45a5-c814-a4536e40d416"
      },
      "execution_count": 17,
      "outputs": [
        {
          "output_type": "stream",
          "name": "stdout",
          "text": [
            "+-------+-------------------+\n",
            "|summary|              label|\n",
            "+-------+-------------------+\n",
            "|  count|                501|\n",
            "|   mean|0.25688882219498976|\n",
            "| stddev| 10.317884030544564|\n",
            "|    min|-28.571478869743427|\n",
            "|    max|  27.78383192005107|\n",
            "+-------+-------------------+\n",
            "\n"
          ]
        }
      ]
    },
    {
      "cell_type": "code",
      "source": [
        "train_data.show()"
      ],
      "metadata": {
        "colab": {
          "base_uri": "https://localhost:8080/"
        },
        "id": "iAeSmRqjzStf",
        "outputId": "2803a3a3-a9de-480c-9651-82c6b403bb29"
      },
      "execution_count": 16,
      "outputs": [
        {
          "output_type": "stream",
          "name": "stdout",
          "text": [
            "+-------------------+--------------------+\n",
            "|              label|            features|\n",
            "+-------------------+--------------------+\n",
            "|-28.571478869743427|(10,[0,1,2,3,4,5,...|\n",
            "|-28.046018037776633|(10,[0,1,2,3,4,5,...|\n",
            "|-26.805483428483072|(10,[0,1,2,3,4,5,...|\n",
            "|-26.736207182601724|(10,[0,1,2,3,4,5,...|\n",
            "| -23.51088409032297|(10,[0,1,2,3,4,5,...|\n",
            "|-23.487440120936512|(10,[0,1,2,3,4,5,...|\n",
            "|-22.949825936196074|(10,[0,1,2,3,4,5,...|\n",
            "|-22.837460416919342|(10,[0,1,2,3,4,5,...|\n",
            "|-20.212077258958672|(10,[0,1,2,3,4,5,...|\n",
            "|-20.057482615789212|(10,[0,1,2,3,4,5,...|\n",
            "|-19.872991038068406|(10,[0,1,2,3,4,5,...|\n",
            "|-19.782762789614537|(10,[0,1,2,3,4,5,...|\n",
            "|-19.402336030214553|(10,[0,1,2,3,4,5,...|\n",
            "| -19.16829262296376|(10,[0,1,2,3,4,5,...|\n",
            "|-18.845922472898582|(10,[0,1,2,3,4,5,...|\n",
            "| -18.27521356600463|(10,[0,1,2,3,4,5,...|\n",
            "|-17.803626188664516|(10,[0,1,2,3,4,5,...|\n",
            "|-17.494200356883344|(10,[0,1,2,3,4,5,...|\n",
            "|-17.428674570939506|(10,[0,1,2,3,4,5,...|\n",
            "|-17.065399625876015|(10,[0,1,2,3,4,5,...|\n",
            "+-------------------+--------------------+\n",
            "only showing top 20 rows\n",
            "\n"
          ]
        }
      ]
    },
    {
      "cell_type": "code",
      "source": [
        "test_data.show()"
      ],
      "metadata": {
        "colab": {
          "base_uri": "https://localhost:8080/"
        },
        "id": "SQdic30XzW0D",
        "outputId": "3744e5e6-ca7c-432b-9551-e443e05499bd"
      },
      "execution_count": 18,
      "outputs": [
        {
          "output_type": "stream",
          "name": "stdout",
          "text": [
            "+-------------------+--------------------+\n",
            "|              label|            features|\n",
            "+-------------------+--------------------+\n",
            "|-21.432387764165806|(10,[0,1,2,3,4,5,...|\n",
            "|-19.884560774273424|(10,[0,1,2,3,4,5,...|\n",
            "| -19.66731861537172|(10,[0,1,2,3,4,5,...|\n",
            "| -17.32672073267595|(10,[0,1,2,3,4,5,...|\n",
            "|-16.151349351277112|(10,[0,1,2,3,4,5,...|\n",
            "|-15.951512565794573|(10,[0,1,2,3,4,5,...|\n",
            "| -15.72351561304857|(10,[0,1,2,3,4,5,...|\n",
            "|-15.375857723312297|(10,[0,1,2,3,4,5,...|\n",
            "|-15.310980589416289|(10,[0,1,2,3,4,5,...|\n",
            "|-14.328978509075442|(10,[0,1,2,3,4,5,...|\n",
            "|-13.867087895158768|(10,[0,1,2,3,4,5,...|\n",
            "|-13.772441561702871|(10,[0,1,2,3,4,5,...|\n",
            "|-12.773226999251197|(10,[0,1,2,3,4,5,...|\n",
            "|-12.558575788856189|(10,[0,1,2,3,4,5,...|\n",
            "|-12.479280211451497|(10,[0,1,2,3,4,5,...|\n",
            "|-12.094351278535258|(10,[0,1,2,3,4,5,...|\n",
            "|-11.904986902675114|(10,[0,1,2,3,4,5,...|\n",
            "|-11.827072996392571|(10,[0,1,2,3,4,5,...|\n",
            "|-10.600130341909033|(10,[0,1,2,3,4,5,...|\n",
            "|-10.489157123372898|(10,[0,1,2,3,4,5,...|\n",
            "+-------------------+--------------------+\n",
            "only showing top 20 rows\n",
            "\n"
          ]
        }
      ]
    },
    {
      "cell_type": "code",
      "source": [
        "correct_model = lr.fit(train_data)"
      ],
      "metadata": {
        "id": "PopBS-FlzYm6"
      },
      "execution_count": 19,
      "outputs": []
    },
    {
      "cell_type": "code",
      "source": [
        "test_results = correct_model.evaluate(test_data)\n",
        "test_results.residuals.show()"
      ],
      "metadata": {
        "colab": {
          "base_uri": "https://localhost:8080/"
        },
        "id": "Vx1wUyFNz2eu",
        "outputId": "efc981b6-d539-4afc-b1c9-c55814269e4a"
      },
      "execution_count": 20,
      "outputs": [
        {
          "output_type": "stream",
          "name": "stdout",
          "text": [
            "+-------------------+\n",
            "|          residuals|\n",
            "+-------------------+\n",
            "| -21.70933702189673|\n",
            "| -19.40994823754436|\n",
            "|-16.142230008176707|\n",
            "|-17.300780888187393|\n",
            "|-16.035937773532073|\n",
            "| -15.90636932514256|\n",
            "|-18.880603311026857|\n",
            "|-16.423461329655236|\n",
            "|-13.886298603280292|\n",
            "| -16.18536221617946|\n",
            "|-14.122365127230854|\n",
            "|-18.042058671527386|\n",
            "| -8.126040370659826|\n",
            "|-13.631135813270452|\n",
            "|-11.256240550348723|\n",
            "|-10.132964966334775|\n",
            "| -13.82563923228341|\n",
            "|-13.113757580005382|\n",
            "|-13.182719737975788|\n",
            "|-11.523732486930477|\n",
            "+-------------------+\n",
            "only showing top 20 rows\n",
            "\n"
          ]
        }
      ]
    },
    {
      "cell_type": "markdown",
      "source": [
        "Evaluate the model on the test data\n"
      ],
      "metadata": {
        "id": "q_slrwGxLS0Y"
      }
    },
    {
      "cell_type": "code",
      "source": [
        "# r2 score\n",
        "test_results.r2"
      ],
      "metadata": {
        "colab": {
          "base_uri": "https://localhost:8080/"
        },
        "id": "es0ElN-80RT8",
        "outputId": "6f32c64d-5e7b-492d-f4e4-7d9c67c0ad1c"
      },
      "execution_count": 21,
      "outputs": [
        {
          "output_type": "execute_result",
          "data": {
            "text/plain": [
              "-0.14515146484322217"
            ]
          },
          "metadata": {},
          "execution_count": 21
        }
      ]
    },
    {
      "cell_type": "code",
      "source": [
        "# RMSE score\n",
        "test_results.rootMeanSquaredError"
      ],
      "metadata": {
        "colab": {
          "base_uri": "https://localhost:8080/"
        },
        "id": "Kq9gVQNR0VFh",
        "outputId": "f6950ef6-4d80-42c4-f2ea-e2979a151a7b"
      },
      "execution_count": 22,
      "outputs": [
        {
          "output_type": "execute_result",
          "data": {
            "text/plain": [
              "10.234978920441655"
            ]
          },
          "metadata": {},
          "execution_count": 22
        }
      ]
    },
    {
      "cell_type": "markdown",
      "source": [
        "#### Deploy: Test the model with unlabeled data"
      ],
      "metadata": {
        "id": "Ng8-X3uTLfzZ"
      }
    },
    {
      "cell_type": "code",
      "source": [
        "unlabeled_data = test_data.select('features')\n",
        "unlabeled_data.show()"
      ],
      "metadata": {
        "colab": {
          "base_uri": "https://localhost:8080/"
        },
        "id": "Y1V4_7rK2fgJ",
        "outputId": "5e406981-103c-4e2c-ecf8-3efa0515b6c6"
      },
      "execution_count": 23,
      "outputs": [
        {
          "output_type": "stream",
          "name": "stdout",
          "text": [
            "+--------------------+\n",
            "|            features|\n",
            "+--------------------+\n",
            "|(10,[0,1,2,3,4,5,...|\n",
            "|(10,[0,1,2,3,4,5,...|\n",
            "|(10,[0,1,2,3,4,5,...|\n",
            "|(10,[0,1,2,3,4,5,...|\n",
            "|(10,[0,1,2,3,4,5,...|\n",
            "|(10,[0,1,2,3,4,5,...|\n",
            "|(10,[0,1,2,3,4,5,...|\n",
            "|(10,[0,1,2,3,4,5,...|\n",
            "|(10,[0,1,2,3,4,5,...|\n",
            "|(10,[0,1,2,3,4,5,...|\n",
            "|(10,[0,1,2,3,4,5,...|\n",
            "|(10,[0,1,2,3,4,5,...|\n",
            "|(10,[0,1,2,3,4,5,...|\n",
            "|(10,[0,1,2,3,4,5,...|\n",
            "|(10,[0,1,2,3,4,5,...|\n",
            "|(10,[0,1,2,3,4,5,...|\n",
            "|(10,[0,1,2,3,4,5,...|\n",
            "|(10,[0,1,2,3,4,5,...|\n",
            "|(10,[0,1,2,3,4,5,...|\n",
            "|(10,[0,1,2,3,4,5,...|\n",
            "+--------------------+\n",
            "only showing top 20 rows\n",
            "\n"
          ]
        }
      ]
    },
    {
      "cell_type": "code",
      "source": [
        "predictions = correct_model.transform(unlabeled_data)\n",
        "predictions.show()"
      ],
      "metadata": {
        "colab": {
          "base_uri": "https://localhost:8080/"
        },
        "id": "BZv_wwnB2jj9",
        "outputId": "f06eaaf6-311f-4afc-9165-ff934767c9e0"
      },
      "execution_count": 24,
      "outputs": [
        {
          "output_type": "stream",
          "name": "stdout",
          "text": [
            "+--------------------+--------------------+\n",
            "|            features|          prediction|\n",
            "+--------------------+--------------------+\n",
            "|(10,[0,1,2,3,4,5,...|  0.2769492577309219|\n",
            "|(10,[0,1,2,3,4,5,...|-0.47461253672906417|\n",
            "|(10,[0,1,2,3,4,5,...| -3.5250886071950136|\n",
            "|(10,[0,1,2,3,4,5,...|-0.02593984448855452|\n",
            "|(10,[0,1,2,3,4,5,...|-0.11541157774504096|\n",
            "|(10,[0,1,2,3,4,5,...|-0.04514324065201365|\n",
            "|(10,[0,1,2,3,4,5,...|  3.1570876979782883|\n",
            "|(10,[0,1,2,3,4,5,...|  1.0476036063429377|\n",
            "|(10,[0,1,2,3,4,5,...| -1.4246819861359976|\n",
            "|(10,[0,1,2,3,4,5,...|  1.8563837071040181|\n",
            "|(10,[0,1,2,3,4,5,...| 0.25527723207208614|\n",
            "|(10,[0,1,2,3,4,5,...|   4.269617109824514|\n",
            "|(10,[0,1,2,3,4,5,...| -4.6471866285913705|\n",
            "|(10,[0,1,2,3,4,5,...|  1.0725600244142632|\n",
            "|(10,[0,1,2,3,4,5,...| -1.2230396611027736|\n",
            "|(10,[0,1,2,3,4,5,...| -1.9613863122004842|\n",
            "|(10,[0,1,2,3,4,5,...|  1.9206523296082956|\n",
            "|(10,[0,1,2,3,4,5,...|   1.286684583612811|\n",
            "|(10,[0,1,2,3,4,5,...|  2.5825893960667554|\n",
            "|(10,[0,1,2,3,4,5,...|  1.0345753635575787|\n",
            "+--------------------+--------------------+\n",
            "only showing top 20 rows\n",
            "\n"
          ]
        }
      ]
    },
    {
      "cell_type": "markdown",
      "source": [
        "##### Stop Spark"
      ],
      "metadata": {
        "id": "6ERqxK9WLuBy"
      }
    },
    {
      "cell_type": "code",
      "source": [
        "spark.stop()"
      ],
      "metadata": {
        "id": "fYIv3LT82mpF"
      },
      "execution_count": 25,
      "outputs": []
    },
    {
      "cell_type": "markdown",
      "source": [
        "### Analysis of E-Commerce Customer\n",
        "\n",
        "Data Description\n",
        "\n",
        "Email - Unique identifier for the customer (not used in regression).\n",
        "\n",
        "Address - Customer's physical address (not used in regression).\n",
        "\n",
        "Avatar - Link or identifier for the customer's profile picture (not used in regression).\n",
        "\n",
        "Avg Session Length - The average duration of a customer session (measured in minutes).\n",
        "\n",
        "Time on App - Total time spent on the mobile app (measured in minutes).\n",
        "\n",
        "Time on Website - Total time spent on the website (measured in minutes).\n",
        "\n",
        "Length of Membership - How long a customer has been a member (measured in years).\n",
        "\n",
        "Yearly Amount Spent - Target variable: The total amount the customer spends per year (measured in dollars)."
      ],
      "metadata": {
        "id": "Biah_WShLzYI"
      }
    },
    {
      "cell_type": "code",
      "source": [
        "from pyspark.sql import SparkSession\n",
        "spark = SparkSession.builder.appName(\"Ecommerce Linear Regression\").getOrCreate()"
      ],
      "metadata": {
        "id": "kEefQfKu2qug"
      },
      "execution_count": 26,
      "outputs": []
    },
    {
      "cell_type": "code",
      "source": [
        "from pyspark.ml.regression import LinearRegression"
      ],
      "metadata": {
        "id": "mL3RMea8212T"
      },
      "execution_count": 27,
      "outputs": []
    },
    {
      "cell_type": "code",
      "source": [
        "data = spark.read.csv('Datasets/Ecommerce_Customers.csv', inferSchema=True, header=True)"
      ],
      "metadata": {
        "id": "R6np14U824MC"
      },
      "execution_count": 28,
      "outputs": []
    },
    {
      "cell_type": "code",
      "source": [
        "data.printSchema()"
      ],
      "metadata": {
        "colab": {
          "base_uri": "https://localhost:8080/"
        },
        "id": "ocJnTv7r4HXt",
        "outputId": "23f12432-b499-4a07-af25-bf9a1acd72f2"
      },
      "execution_count": 29,
      "outputs": [
        {
          "output_type": "stream",
          "name": "stdout",
          "text": [
            "root\n",
            " |-- Email: string (nullable = true)\n",
            " |-- Address: string (nullable = true)\n",
            " |-- Avatar: string (nullable = true)\n",
            " |-- Avg Session Length: double (nullable = true)\n",
            " |-- Time on App: double (nullable = true)\n",
            " |-- Time on Website: double (nullable = true)\n",
            " |-- Length of Membership: double (nullable = true)\n",
            " |-- Yearly Amount Spent: double (nullable = true)\n",
            "\n"
          ]
        }
      ]
    },
    {
      "cell_type": "code",
      "source": [
        "data.show()"
      ],
      "metadata": {
        "colab": {
          "base_uri": "https://localhost:8080/"
        },
        "id": "1cq5n7Us4Kkr",
        "outputId": "88e98ee3-5918-44c9-8166-b5779162ee14"
      },
      "execution_count": 30,
      "outputs": [
        {
          "output_type": "stream",
          "name": "stdout",
          "text": [
            "+--------------------+--------------------+----------------+------------------+------------------+------------------+--------------------+-------------------+\n",
            "|               Email|             Address|          Avatar|Avg Session Length|       Time on App|   Time on Website|Length of Membership|Yearly Amount Spent|\n",
            "+--------------------+--------------------+----------------+------------------+------------------+------------------+--------------------+-------------------+\n",
            "|mstephenson@ferna...|835 Frank TunnelW...|          Violet| 34.49726772511229| 12.65565114916675| 39.57766801952616|  4.0826206329529615|  587.9510539684005|\n",
            "|   hduke@hotmail.com|4547 Archer Commo...|       DarkGreen| 31.92627202636016|11.109460728682564|37.268958868297744|    2.66403418213262|  392.2049334443264|\n",
            "|    pallen@yahoo.com|24645 Valerie Uni...|          Bisque|33.000914755642675|11.330278057777512|37.110597442120856|   4.104543202376424| 487.54750486747207|\n",
            "|riverarebecca@gma...|1414 David Throug...|     SaddleBrown| 34.30555662975554|13.717513665142507| 36.72128267790313|   3.120178782748092|  581.8523440352177|\n",
            "|mstephens@davidso...|14023 Rodriguez P...|MediumAquaMarine| 33.33067252364639|12.795188551078114| 37.53665330059473|   4.446308318351434|  599.4060920457634|\n",
            "|alvareznancy@luca...|645 Martha Park A...|     FloralWhite|33.871037879341976|12.026925339755056| 34.47687762925054|   5.493507201364199|   637.102447915074|\n",
            "|katherine20@yahoo...|68388 Reyes Light...|   DarkSlateBlue| 32.02159550138701|11.366348309710526| 36.68377615286961|   4.685017246570912|  521.5721747578274|\n",
            "|  awatkins@yahoo.com|Unit 6538 Box 898...|            Aqua|32.739142938380326| 12.35195897300293| 37.37335885854755|  4.4342734348999375|  549.9041461052942|\n",
            "|vchurch@walter-ma...|860 Lee KeyWest D...|          Salmon| 33.98777289568564|13.386235275676436|37.534497341555735|  3.2734335777477144|  570.2004089636196|\n",
            "|    bonnie69@lin.biz|PSC 2734, Box 525...|           Brown|31.936548618448917|11.814128294972196| 37.14516822352819|   3.202806071553459|  427.1993848953282|\n",
            "|andrew06@peterson...|26104 Alexander G...|          Tomato|33.992572774953736|13.338975447662113| 37.22580613162114|   2.482607770510596|  492.6060127179966|\n",
            "|ryanwerner@freema...|Unit 2413 Box 034...|          Tomato| 33.87936082480498|11.584782999535266| 37.08792607098381|    3.71320920294043|  522.3374046069357|\n",
            "|   knelson@gmail.com|6705 Miller Orcha...|       RoyalBlue|29.532428967057943|10.961298400154098| 37.42021557502538|   4.046423164299585|  408.6403510726275|\n",
            "|wrightpeter@yahoo...|05302 Dunlap Ferr...|          Bisque| 33.19033404372265|12.959226091609382|36.144666700041924|   3.918541839158999|  573.4158673313865|\n",
            "|taylormason@gmail...|7773 Powell Sprin...|        DarkBlue|32.387975853153876|13.148725692056516| 36.61995708279922|   2.494543646659249|  470.4527333009554|\n",
            "| jstark@anderson.com|49558 Ramirez Roa...|            Peru|30.737720372628182|12.636606052000127|36.213763093698624|  3.3578468423262944|  461.7807421962299|\n",
            "| wjennings@gmail.com|6362 Wilson Mount...|      PowderBlue| 32.12538689728784|11.733861690857394|  34.8940927514398|  3.1361327164897803| 457.84769594494855|\n",
            "|rebecca45@hale-ba...|8982 Burton RowWi...|       OliveDrab|32.338899323067196|12.013194694014402| 38.38513659413844|   2.420806160901484| 407.70454754954415|\n",
            "|alejandro75@hotma...|64475 Andre Club ...|            Cyan|32.187812045932155|  14.7153875441565| 38.24411459434352|   1.516575580831944|  452.3156754800354|\n",
            "|samuel46@love-wes...|544 Alexander Hei...|   LightSeaGreen| 32.61785606282345|13.989592555825254|37.190503800397956|   4.064548550437977|   605.061038804892|\n",
            "+--------------------+--------------------+----------------+------------------+------------------+------------------+--------------------+-------------------+\n",
            "only showing top 20 rows\n",
            "\n"
          ]
        }
      ]
    },
    {
      "cell_type": "code",
      "source": [
        "# Transform the data for MLlib (VectorAssembler)\n",
        "\n",
        "# from pyspark.ml.linalg import Vectors\n",
        "from pyspark.ml.feature import VectorAssembler"
      ],
      "metadata": {
        "id": "Fv0tZAx44NHn"
      },
      "execution_count": 31,
      "outputs": []
    },
    {
      "cell_type": "code",
      "source": [
        "data.columns"
      ],
      "metadata": {
        "colab": {
          "base_uri": "https://localhost:8080/"
        },
        "id": "ZWVWhpWZ4TEf",
        "outputId": "f58cacf2-e747-4183-c970-2eefe80e7834"
      },
      "execution_count": 32,
      "outputs": [
        {
          "output_type": "execute_result",
          "data": {
            "text/plain": [
              "['Email',\n",
              " 'Address',\n",
              " 'Avatar',\n",
              " 'Avg Session Length',\n",
              " 'Time on App',\n",
              " 'Time on Website',\n",
              " 'Length of Membership',\n",
              " 'Yearly Amount Spent']"
            ]
          },
          "metadata": {},
          "execution_count": 32
        }
      ]
    },
    {
      "cell_type": "code",
      "source": [
        "assembler = VectorAssembler(inputCols=\n",
        " ['Avg Session Length',\n",
        "  'Time on App',\n",
        "  'Time on Website',\n",
        "  'Length of Membership'], outputCol='features')"
      ],
      "metadata": {
        "id": "gb4cO6Fg4Vsz"
      },
      "execution_count": 33,
      "outputs": []
    },
    {
      "cell_type": "markdown",
      "source": [
        "Transform columns into features"
      ],
      "metadata": {
        "id": "ClpFQYULNZSl"
      }
    },
    {
      "cell_type": "code",
      "source": [
        "output = assembler.transform(data)\n",
        "output.show()"
      ],
      "metadata": {
        "colab": {
          "base_uri": "https://localhost:8080/"
        },
        "id": "kCClaFYs5Hch",
        "outputId": "bfe218c6-39cc-4717-c81b-5187ff55b635"
      },
      "execution_count": 34,
      "outputs": [
        {
          "output_type": "stream",
          "name": "stdout",
          "text": [
            "+--------------------+--------------------+----------------+------------------+------------------+------------------+--------------------+-------------------+--------------------+\n",
            "|               Email|             Address|          Avatar|Avg Session Length|       Time on App|   Time on Website|Length of Membership|Yearly Amount Spent|            features|\n",
            "+--------------------+--------------------+----------------+------------------+------------------+------------------+--------------------+-------------------+--------------------+\n",
            "|mstephenson@ferna...|835 Frank TunnelW...|          Violet| 34.49726772511229| 12.65565114916675| 39.57766801952616|  4.0826206329529615|  587.9510539684005|[34.4972677251122...|\n",
            "|   hduke@hotmail.com|4547 Archer Commo...|       DarkGreen| 31.92627202636016|11.109460728682564|37.268958868297744|    2.66403418213262|  392.2049334443264|[31.9262720263601...|\n",
            "|    pallen@yahoo.com|24645 Valerie Uni...|          Bisque|33.000914755642675|11.330278057777512|37.110597442120856|   4.104543202376424| 487.54750486747207|[33.0009147556426...|\n",
            "|riverarebecca@gma...|1414 David Throug...|     SaddleBrown| 34.30555662975554|13.717513665142507| 36.72128267790313|   3.120178782748092|  581.8523440352177|[34.3055566297555...|\n",
            "|mstephens@davidso...|14023 Rodriguez P...|MediumAquaMarine| 33.33067252364639|12.795188551078114| 37.53665330059473|   4.446308318351434|  599.4060920457634|[33.3306725236463...|\n",
            "|alvareznancy@luca...|645 Martha Park A...|     FloralWhite|33.871037879341976|12.026925339755056| 34.47687762925054|   5.493507201364199|   637.102447915074|[33.8710378793419...|\n",
            "|katherine20@yahoo...|68388 Reyes Light...|   DarkSlateBlue| 32.02159550138701|11.366348309710526| 36.68377615286961|   4.685017246570912|  521.5721747578274|[32.0215955013870...|\n",
            "|  awatkins@yahoo.com|Unit 6538 Box 898...|            Aqua|32.739142938380326| 12.35195897300293| 37.37335885854755|  4.4342734348999375|  549.9041461052942|[32.7391429383803...|\n",
            "|vchurch@walter-ma...|860 Lee KeyWest D...|          Salmon| 33.98777289568564|13.386235275676436|37.534497341555735|  3.2734335777477144|  570.2004089636196|[33.9877728956856...|\n",
            "|    bonnie69@lin.biz|PSC 2734, Box 525...|           Brown|31.936548618448917|11.814128294972196| 37.14516822352819|   3.202806071553459|  427.1993848953282|[31.9365486184489...|\n",
            "|andrew06@peterson...|26104 Alexander G...|          Tomato|33.992572774953736|13.338975447662113| 37.22580613162114|   2.482607770510596|  492.6060127179966|[33.9925727749537...|\n",
            "|ryanwerner@freema...|Unit 2413 Box 034...|          Tomato| 33.87936082480498|11.584782999535266| 37.08792607098381|    3.71320920294043|  522.3374046069357|[33.8793608248049...|\n",
            "|   knelson@gmail.com|6705 Miller Orcha...|       RoyalBlue|29.532428967057943|10.961298400154098| 37.42021557502538|   4.046423164299585|  408.6403510726275|[29.5324289670579...|\n",
            "|wrightpeter@yahoo...|05302 Dunlap Ferr...|          Bisque| 33.19033404372265|12.959226091609382|36.144666700041924|   3.918541839158999|  573.4158673313865|[33.1903340437226...|\n",
            "|taylormason@gmail...|7773 Powell Sprin...|        DarkBlue|32.387975853153876|13.148725692056516| 36.61995708279922|   2.494543646659249|  470.4527333009554|[32.3879758531538...|\n",
            "| jstark@anderson.com|49558 Ramirez Roa...|            Peru|30.737720372628182|12.636606052000127|36.213763093698624|  3.3578468423262944|  461.7807421962299|[30.7377203726281...|\n",
            "| wjennings@gmail.com|6362 Wilson Mount...|      PowderBlue| 32.12538689728784|11.733861690857394|  34.8940927514398|  3.1361327164897803| 457.84769594494855|[32.1253868972878...|\n",
            "|rebecca45@hale-ba...|8982 Burton RowWi...|       OliveDrab|32.338899323067196|12.013194694014402| 38.38513659413844|   2.420806160901484| 407.70454754954415|[32.3388993230671...|\n",
            "|alejandro75@hotma...|64475 Andre Club ...|            Cyan|32.187812045932155|  14.7153875441565| 38.24411459434352|   1.516575580831944|  452.3156754800354|[32.1878120459321...|\n",
            "|samuel46@love-wes...|544 Alexander Hei...|   LightSeaGreen| 32.61785606282345|13.989592555825254|37.190503800397956|   4.064548550437977|   605.061038804892|[32.6178560628234...|\n",
            "+--------------------+--------------------+----------------+------------------+------------------+------------------+--------------------+-------------------+--------------------+\n",
            "only showing top 20 rows\n",
            "\n"
          ]
        }
      ]
    },
    {
      "cell_type": "code",
      "source": [
        "output.printSchema()"
      ],
      "metadata": {
        "colab": {
          "base_uri": "https://localhost:8080/"
        },
        "id": "FvDlLn7K5K0G",
        "outputId": "98d3a857-9c3c-4ab1-b713-96137b60a6aa"
      },
      "execution_count": 35,
      "outputs": [
        {
          "output_type": "stream",
          "name": "stdout",
          "text": [
            "root\n",
            " |-- Email: string (nullable = true)\n",
            " |-- Address: string (nullable = true)\n",
            " |-- Avatar: string (nullable = true)\n",
            " |-- Avg Session Length: double (nullable = true)\n",
            " |-- Time on App: double (nullable = true)\n",
            " |-- Time on Website: double (nullable = true)\n",
            " |-- Length of Membership: double (nullable = true)\n",
            " |-- Yearly Amount Spent: double (nullable = true)\n",
            " |-- features: vector (nullable = true)\n",
            "\n"
          ]
        }
      ]
    },
    {
      "cell_type": "code",
      "source": [
        "output.select('features').show()"
      ],
      "metadata": {
        "colab": {
          "base_uri": "https://localhost:8080/"
        },
        "id": "Yl4zvPYq58Hp",
        "outputId": "54c1702b-3024-47f5-f2b5-e8390e5cae09"
      },
      "execution_count": 36,
      "outputs": [
        {
          "output_type": "stream",
          "name": "stdout",
          "text": [
            "+--------------------+\n",
            "|            features|\n",
            "+--------------------+\n",
            "|[34.4972677251122...|\n",
            "|[31.9262720263601...|\n",
            "|[33.0009147556426...|\n",
            "|[34.3055566297555...|\n",
            "|[33.3306725236463...|\n",
            "|[33.8710378793419...|\n",
            "|[32.0215955013870...|\n",
            "|[32.7391429383803...|\n",
            "|[33.9877728956856...|\n",
            "|[31.9365486184489...|\n",
            "|[33.9925727749537...|\n",
            "|[33.8793608248049...|\n",
            "|[29.5324289670579...|\n",
            "|[33.1903340437226...|\n",
            "|[32.3879758531538...|\n",
            "|[30.7377203726281...|\n",
            "|[32.1253868972878...|\n",
            "|[32.3388993230671...|\n",
            "|[32.1878120459321...|\n",
            "|[32.6178560628234...|\n",
            "+--------------------+\n",
            "only showing top 20 rows\n",
            "\n"
          ]
        }
      ]
    },
    {
      "cell_type": "markdown",
      "source": [
        "Features and Label"
      ],
      "metadata": {
        "id": "kVDxjWLyNiBL"
      }
    },
    {
      "cell_type": "code",
      "source": [
        "output.head(1)"
      ],
      "metadata": {
        "colab": {
          "base_uri": "https://localhost:8080/"
        },
        "id": "TXFhj71I5-Z_",
        "outputId": "9103c278-12a4-4434-fa35-d8c95ee778b4"
      },
      "execution_count": 37,
      "outputs": [
        {
          "output_type": "execute_result",
          "data": {
            "text/plain": [
              "[Row(Email='mstephenson@fernandez.com', Address='835 Frank TunnelWrightmouth, MI 82180-9605', Avatar='Violet', Avg Session Length=34.49726772511229, Time on App=12.65565114916675, Time on Website=39.57766801952616, Length of Membership=4.0826206329529615, Yearly Amount Spent=587.9510539684005, features=DenseVector([34.4973, 12.6557, 39.5777, 4.0826]))]"
            ]
          },
          "metadata": {},
          "execution_count": 37
        }
      ]
    },
    {
      "cell_type": "markdown",
      "source": [
        "Make the final data for MLlib"
      ],
      "metadata": {
        "id": "gNvmBuszNmk6"
      }
    },
    {
      "cell_type": "code",
      "source": [
        "final_data = output.select('features','Yearly Amount Spent')\n",
        "final_data.show()"
      ],
      "metadata": {
        "colab": {
          "base_uri": "https://localhost:8080/"
        },
        "id": "inMnnwj97cEI",
        "outputId": "df4f15c2-5043-498f-e7e8-4672ec1b18ea"
      },
      "execution_count": 38,
      "outputs": [
        {
          "output_type": "stream",
          "name": "stdout",
          "text": [
            "+--------------------+-------------------+\n",
            "|            features|Yearly Amount Spent|\n",
            "+--------------------+-------------------+\n",
            "|[34.4972677251122...|  587.9510539684005|\n",
            "|[31.9262720263601...|  392.2049334443264|\n",
            "|[33.0009147556426...| 487.54750486747207|\n",
            "|[34.3055566297555...|  581.8523440352177|\n",
            "|[33.3306725236463...|  599.4060920457634|\n",
            "|[33.8710378793419...|   637.102447915074|\n",
            "|[32.0215955013870...|  521.5721747578274|\n",
            "|[32.7391429383803...|  549.9041461052942|\n",
            "|[33.9877728956856...|  570.2004089636196|\n",
            "|[31.9365486184489...|  427.1993848953282|\n",
            "|[33.9925727749537...|  492.6060127179966|\n",
            "|[33.8793608248049...|  522.3374046069357|\n",
            "|[29.5324289670579...|  408.6403510726275|\n",
            "|[33.1903340437226...|  573.4158673313865|\n",
            "|[32.3879758531538...|  470.4527333009554|\n",
            "|[30.7377203726281...|  461.7807421962299|\n",
            "|[32.1253868972878...| 457.84769594494855|\n",
            "|[32.3388993230671...| 407.70454754954415|\n",
            "|[32.1878120459321...|  452.3156754800354|\n",
            "|[32.6178560628234...|   605.061038804892|\n",
            "+--------------------+-------------------+\n",
            "only showing top 20 rows\n",
            "\n"
          ]
        }
      ]
    },
    {
      "cell_type": "markdown",
      "source": [
        "Train Test split"
      ],
      "metadata": {
        "id": "o0f_BpxjNo_1"
      }
    },
    {
      "cell_type": "code",
      "source": [
        "train_data, test_data = final_data.randomSplit([0.7,0.3])"
      ],
      "metadata": {
        "id": "PRL7akvW7dgt"
      },
      "execution_count": 39,
      "outputs": []
    },
    {
      "cell_type": "code",
      "source": [
        "train_data.describe().show()"
      ],
      "metadata": {
        "colab": {
          "base_uri": "https://localhost:8080/"
        },
        "id": "uJUP7e507hfD",
        "outputId": "e3af175d-8696-45f4-bdc6-c129432fb39b"
      },
      "execution_count": 40,
      "outputs": [
        {
          "output_type": "stream",
          "name": "stdout",
          "text": [
            "+-------+-------------------+\n",
            "|summary|Yearly Amount Spent|\n",
            "+-------+-------------------+\n",
            "|  count|                355|\n",
            "|   mean| 501.11057130393704|\n",
            "| stddev|  81.98986477383264|\n",
            "|    min| 256.67058229005585|\n",
            "|    max|  765.5184619388373|\n",
            "+-------+-------------------+\n",
            "\n"
          ]
        }
      ]
    },
    {
      "cell_type": "code",
      "source": [
        "test_data.describe().show()"
      ],
      "metadata": {
        "colab": {
          "base_uri": "https://localhost:8080/"
        },
        "id": "Vla17plb7lYa",
        "outputId": "9842cf56-d8a4-4a70-dcd9-1e1222a0e07f"
      },
      "execution_count": 41,
      "outputs": [
        {
          "output_type": "stream",
          "name": "stdout",
          "text": [
            "+-------+-------------------+\n",
            "|summary|Yearly Amount Spent|\n",
            "+-------+-------------------+\n",
            "|  count|                145|\n",
            "|   mean|  494.9156297682605|\n",
            "| stddev|   72.4313795369055|\n",
            "|    min|  304.1355915788555|\n",
            "|    max|  725.5848140556806|\n",
            "+-------+-------------------+\n",
            "\n"
          ]
        }
      ]
    },
    {
      "cell_type": "markdown",
      "source": [
        "Linear Regression"
      ],
      "metadata": {
        "id": "sbDbSD9JNtx4"
      }
    },
    {
      "cell_type": "code",
      "source": [
        "lr = LinearRegression(labelCol = 'Yearly Amount Spent')\n",
        "lr_model = lr.fit(train_data)"
      ],
      "metadata": {
        "id": "JneRVT9m9jI9"
      },
      "execution_count": 42,
      "outputs": []
    },
    {
      "cell_type": "code",
      "source": [
        "lr_model.coefficients"
      ],
      "metadata": {
        "colab": {
          "base_uri": "https://localhost:8080/"
        },
        "id": "jrvYRCmW9lLQ",
        "outputId": "ba33b09e-212a-4236-9647-7b890ce355f6"
      },
      "execution_count": 43,
      "outputs": [
        {
          "output_type": "execute_result",
          "data": {
            "text/plain": [
              "DenseVector([25.9338, 38.9702, 0.0422, 61.3812])"
            ]
          },
          "metadata": {},
          "execution_count": 43
        }
      ]
    },
    {
      "cell_type": "code",
      "source": [
        "lr_model.intercept"
      ],
      "metadata": {
        "colab": {
          "base_uri": "https://localhost:8080/"
        },
        "id": "QUgdTWB59n67",
        "outputId": "3f2639c6-3176-4d1c-9129-6847ccfe5543"
      },
      "execution_count": 44,
      "outputs": [
        {
          "output_type": "execute_result",
          "data": {
            "text/plain": [
              "-1045.931344483102"
            ]
          },
          "metadata": {},
          "execution_count": 44
        }
      ]
    },
    {
      "cell_type": "markdown",
      "source": [
        "Evaluate the model"
      ],
      "metadata": {
        "id": "bM4ZWzOXNw6P"
      }
    },
    {
      "cell_type": "code",
      "source": [
        "test_results = lr_model.evaluate(test_data)\n",
        "test_results.residuals.show()"
      ],
      "metadata": {
        "colab": {
          "base_uri": "https://localhost:8080/"
        },
        "id": "vXZiBOBj9pWY",
        "outputId": "7bf0d8fc-52a5-43f1-ad42-3cd9c97f7d15"
      },
      "execution_count": 45,
      "outputs": [
        {
          "output_type": "stream",
          "name": "stdout",
          "text": [
            "+-------------------+\n",
            "|          residuals|\n",
            "+-------------------+\n",
            "| 11.567066025407485|\n",
            "|-11.753917369101032|\n",
            "|-12.664493117061681|\n",
            "|-21.724664543914628|\n",
            "| -7.100004026618308|\n",
            "| 19.856445408852835|\n",
            "| 3.9038272067908224|\n",
            "| -17.93364662331419|\n",
            "| 16.540915100689347|\n",
            "|  6.725162962410138|\n",
            "|  2.623069345821534|\n",
            "| -2.372354738268257|\n",
            "|  8.041724118929949|\n",
            "| -9.271203337255827|\n",
            "|  7.817071681578284|\n",
            "|-10.927445115446858|\n",
            "| -2.257198279421061|\n",
            "|   8.74665775072856|\n",
            "| -17.78042657530682|\n",
            "|  5.152160002416849|\n",
            "+-------------------+\n",
            "only showing top 20 rows\n",
            "\n"
          ]
        }
      ]
    },
    {
      "cell_type": "code",
      "source": [
        "test_results.rootMeanSquaredError"
      ],
      "metadata": {
        "colab": {
          "base_uri": "https://localhost:8080/"
        },
        "id": "PWeiQSyb9rgf",
        "outputId": "3e34668e-69db-42b4-ab56-dd2b9c65d203"
      },
      "execution_count": 46,
      "outputs": [
        {
          "output_type": "execute_result",
          "data": {
            "text/plain": [
              "10.292559813303104"
            ]
          },
          "metadata": {},
          "execution_count": 46
        }
      ]
    },
    {
      "cell_type": "code",
      "source": [
        "test_results.r2"
      ],
      "metadata": {
        "colab": {
          "base_uri": "https://localhost:8080/"
        },
        "id": "-55omLqL9uY5",
        "outputId": "a177b37a-4839-4bd2-ef40-f06aa3927cea"
      },
      "execution_count": 47,
      "outputs": [
        {
          "output_type": "execute_result",
          "data": {
            "text/plain": [
              "0.9796671247860095"
            ]
          },
          "metadata": {},
          "execution_count": 47
        }
      ]
    },
    {
      "cell_type": "markdown",
      "source": [
        "Statistic about the data"
      ],
      "metadata": {
        "id": "W4HhREoaN1WN"
      }
    },
    {
      "cell_type": "code",
      "source": [
        "final_data.describe().show()"
      ],
      "metadata": {
        "colab": {
          "base_uri": "https://localhost:8080/"
        },
        "id": "bcN3FH_x-Prh",
        "outputId": "12bc3b27-f9bf-4d0a-94b3-67a084bb4122"
      },
      "execution_count": 48,
      "outputs": [
        {
          "output_type": "stream",
          "name": "stdout",
          "text": [
            "+-------+-------------------+\n",
            "|summary|Yearly Amount Spent|\n",
            "+-------+-------------------+\n",
            "|  count|                500|\n",
            "|   mean|  499.3140382585909|\n",
            "| stddev|   79.3147815497068|\n",
            "|    min| 256.67058229005585|\n",
            "|    max|  765.5184619388373|\n",
            "+-------+-------------------+\n",
            "\n"
          ]
        }
      ]
    },
    {
      "cell_type": "markdown",
      "source": [
        "Deployment"
      ],
      "metadata": {
        "id": "8bXmq5WBN5BW"
      }
    },
    {
      "cell_type": "code",
      "source": [
        "unlabeled_data = test_data.select('features')\n",
        "unlabeled_data.show()"
      ],
      "metadata": {
        "colab": {
          "base_uri": "https://localhost:8080/"
        },
        "id": "3tvoJseI-QZg",
        "outputId": "6ff79833-db61-4b97-d498-9f8cc1b34dc6"
      },
      "execution_count": 49,
      "outputs": [
        {
          "output_type": "stream",
          "name": "stdout",
          "text": [
            "+--------------------+\n",
            "|            features|\n",
            "+--------------------+\n",
            "|[29.5324289670579...|\n",
            "|[30.3931845423455...|\n",
            "|[31.0662181616375...|\n",
            "|[31.1239743499119...|\n",
            "|[31.1280900496166...|\n",
            "|[31.3123495994443...|\n",
            "|[31.5316044825729...|\n",
            "|[31.5702008293202...|\n",
            "|[31.6098395733896...|\n",
            "|[31.6548096756927...|\n",
            "|[31.7366356860502...|\n",
            "|[31.8186165667690...|\n",
            "|[31.8209982016720...|\n",
            "|[31.8279790554652...|\n",
            "|[31.8512531286083...|\n",
            "|[31.8648325480987...|\n",
            "|[31.9120759292006...|\n",
            "|[31.9549038566348...|\n",
            "|[31.9563005605233...|\n",
            "|[31.9764800614612...|\n",
            "+--------------------+\n",
            "only showing top 20 rows\n",
            "\n"
          ]
        }
      ]
    },
    {
      "cell_type": "code",
      "source": [
        "predictions = lr_model.transform(unlabeled_data)\n",
        "predictions.show()"
      ],
      "metadata": {
        "colab": {
          "base_uri": "https://localhost:8080/"
        },
        "id": "YeCQOUiM-TQQ",
        "outputId": "206a0f56-8a44-42ac-e903-f9af852c5374"
      },
      "execution_count": 50,
      "outputs": [
        {
          "output_type": "stream",
          "name": "stdout",
          "text": [
            "+--------------------+------------------+\n",
            "|            features|        prediction|\n",
            "+--------------------+------------------+\n",
            "|[29.5324289670579...|   397.07328504722|\n",
            "|[30.3931845423455...|331.68278717229464|\n",
            "|[31.0662181616375...|461.59778632473603|\n",
            "|[31.1239743499119...| 508.6717183836804|\n",
            "|[31.1280900496166...|  564.352690773673|\n",
            "|[31.3123495994443...| 443.7349726190878|\n",
            "|[31.5316044825729...|432.61177852257174|\n",
            "|[31.5702008293202...| 563.8791387647191|\n",
            "|[31.6098395733896...| 428.0046345504188|\n",
            "|[31.6548096756927...| 468.5382607651384|\n",
            "|[31.7366356860502...| 494.3103769097104|\n",
            "|[31.8186165667690...| 448.7910281084039|\n",
            "|[31.8209982016720...| 416.6335568942834|\n",
            "|[31.8279790554652...|449.27395088419735|\n",
            "|[31.8512531286083...| 465.1751749852201|\n",
            "|[31.8648325480987...|450.81872559226053|\n",
            "|[31.9120759292006...| 389.7919145851288|\n",
            "|[31.9549038566348...| 431.2512221891984|\n",
            "|[31.9563005605233...| 564.9063583225056|\n",
            "|[31.9764800614612...|325.44228603168335|\n",
            "+--------------------+------------------+\n",
            "only showing top 20 rows\n",
            "\n"
          ]
        }
      ]
    },
    {
      "cell_type": "markdown",
      "source": [
        "Make predictions on the new unseen data"
      ],
      "metadata": {
        "id": "zCk0SC5COESK"
      }
    },
    {
      "cell_type": "code",
      "source": [
        "from pyspark.ml.linalg import DenseVector\n",
        "from pyspark.sql import Row\n",
        "# Example of unseen data point\n",
        "new_data = [Row(features=DenseVector([31.0472, 11.1997, 38.6887, 3.0888]))]\n",
        "\n",
        "# Convert it into a PySpark DataFrame\n",
        "unseen_df = spark.createDataFrame(new_data)\n",
        "\n",
        "# Show the new test data\n",
        "unseen_df.show(truncate=False)"
      ],
      "metadata": {
        "colab": {
          "base_uri": "https://localhost:8080/"
        },
        "id": "Bqy5cnrz-VII",
        "outputId": "456c83ad-257c-4b05-d5ce-e964f1c28faa"
      },
      "execution_count": 51,
      "outputs": [
        {
          "output_type": "stream",
          "name": "stdout",
          "text": [
            "+--------------------------------+\n",
            "|features                        |\n",
            "+--------------------------------+\n",
            "|[31.0472,11.1997,38.6887,3.0888]|\n",
            "+--------------------------------+\n",
            "\n"
          ]
        }
      ]
    },
    {
      "cell_type": "code",
      "source": [
        "predictions = lr_model.transform(unseen_df)\n",
        "\n",
        "# Show results\n",
        "predictions.select(\"features\", \"prediction\").show(truncate=False)"
      ],
      "metadata": {
        "colab": {
          "base_uri": "https://localhost:8080/"
        },
        "id": "fltKMsUq-YwZ",
        "outputId": "5122bf6c-5cff-4809-9d8f-daf968a3d08b"
      },
      "execution_count": 52,
      "outputs": [
        {
          "output_type": "stream",
          "name": "stdout",
          "text": [
            "+--------------------------------+-----------------+\n",
            "|features                        |prediction       |\n",
            "+--------------------------------+-----------------+\n",
            "|[31.0472,11.1997,38.6887,3.0888]|386.9210666237934|\n",
            "+--------------------------------+-----------------+\n",
            "\n"
          ]
        }
      ]
    }
  ]
}