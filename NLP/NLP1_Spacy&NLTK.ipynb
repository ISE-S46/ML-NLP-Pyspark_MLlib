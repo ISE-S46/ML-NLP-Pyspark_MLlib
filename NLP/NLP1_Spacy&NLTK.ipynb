{
  "nbformat": 4,
  "nbformat_minor": 0,
  "metadata": {
    "colab": {
      "provenance": []
    },
    "kernelspec": {
      "name": "python3",
      "display_name": "Python 3"
    },
    "language_info": {
      "name": "python"
    }
  },
  "cells": [
    {
      "cell_type": "markdown",
      "source": [
        "## Spacy\n",
        "- Object Oriented\n",
        "- More efficient\n",
        "- Suit for app developers"
      ],
      "metadata": {
        "id": "fbZHgh356tCP"
      }
    },
    {
      "cell_type": "code",
      "execution_count": 1,
      "metadata": {
        "id": "9Tu54W_A2ImN"
      },
      "outputs": [],
      "source": [
        "import spacy"
      ]
    },
    {
      "cell_type": "markdown",
      "source": [
        "### Sentence Tokenization in Spacy"
      ],
      "metadata": {
        "id": "ZT2pmRSe6lAN"
      }
    },
    {
      "cell_type": "code",
      "source": [
        "nlp = spacy.load(\"en_core_web_sm\")\n",
        "\n",
        "doc = nlp(\"X love meat kebab etc. with cheese. Y love cheeseburger.\")"
      ],
      "metadata": {
        "id": "Y968KNZg2ZVW"
      },
      "execution_count": 4,
      "outputs": []
    },
    {
      "cell_type": "code",
      "source": [
        "for sentence in doc.sents:\n",
        "    print(sentence)"
      ],
      "metadata": {
        "colab": {
          "base_uri": "https://localhost:8080/"
        },
        "id": "SOqVvXmw6LHY",
        "outputId": "b27dbda8-1f3d-41a8-bbe6-ef8c7db07d75"
      },
      "execution_count": 5,
      "outputs": [
        {
          "output_type": "stream",
          "name": "stdout",
          "text": [
            "X love meat kebab etc. with cheese.\n",
            "Y love cheeseburger.\n"
          ]
        }
      ]
    },
    {
      "cell_type": "code",
      "source": [
        "for sentence in doc.sents:\n",
        "    for word in sentence:\n",
        "        print(word)"
      ],
      "metadata": {
        "colab": {
          "base_uri": "https://localhost:8080/"
        },
        "id": "4XYHtcol6316",
        "outputId": "92f2f8f9-5d5a-4fe5-e11b-472657b079ca"
      },
      "execution_count": 6,
      "outputs": [
        {
          "output_type": "stream",
          "name": "stdout",
          "text": [
            "X\n",
            "love\n",
            "meat\n",
            "kebab\n",
            "etc\n",
            ".\n",
            "with\n",
            "cheese\n",
            ".\n",
            "Y\n",
            "love\n",
            "cheeseburger\n",
            ".\n"
          ]
        }
      ]
    },
    {
      "cell_type": "markdown",
      "source": [
        "## NLTK\n",
        "- Can customize specific algorithm\n",
        "- Suit for researcher"
      ],
      "metadata": {
        "id": "ez-WK5SM6-2F"
      }
    },
    {
      "cell_type": "code",
      "source": [
        "import nltk\n",
        "\n",
        "nltk.download('punkt')\n",
        "nltk.download('punkt_tab')"
      ],
      "metadata": {
        "colab": {
          "base_uri": "https://localhost:8080/"
        },
        "id": "vwVUtNN97BKY",
        "outputId": "476a9823-9cf6-4541-ca6f-e97c6b2a914f"
      },
      "execution_count": 31,
      "outputs": [
        {
          "output_type": "stream",
          "name": "stderr",
          "text": [
            "[nltk_data] Downloading package punkt to /root/nltk_data...\n",
            "[nltk_data]   Package punkt is already up-to-date!\n",
            "[nltk_data] Downloading package punkt_tab to /root/nltk_data...\n",
            "[nltk_data]   Package punkt_tab is already up-to-date!\n"
          ]
        },
        {
          "output_type": "execute_result",
          "data": {
            "text/plain": [
              "True"
            ]
          },
          "metadata": {},
          "execution_count": 31
        }
      ]
    },
    {
      "cell_type": "code",
      "source": [
        "from nltk.tokenize import sent_tokenize\n",
        "\n",
        "sent_tokenize(\"X love meat kebab etc. with cheese. Y love cheeseburger.\")"
      ],
      "metadata": {
        "colab": {
          "base_uri": "https://localhost:8080/"
        },
        "id": "_SGV0OLM7H8P",
        "outputId": "f8b340d5-be80-4305-ecb6-5fb1b1163aa4"
      },
      "execution_count": 34,
      "outputs": [
        {
          "output_type": "execute_result",
          "data": {
            "text/plain": [
              "['X love meat kebab etc.', 'with cheese.', 'Y love cheeseburger.']"
            ]
          },
          "metadata": {},
          "execution_count": 34
        }
      ]
    },
    {
      "cell_type": "code",
      "source": [
        "from nltk.tokenize import word_tokenize\n",
        "\n",
        "word_tokenize(\"X love meat kebab etc. with cheese. Y love cheeseburger.\")"
      ],
      "metadata": {
        "colab": {
          "base_uri": "https://localhost:8080/"
        },
        "id": "HmvfloCs9OfL",
        "outputId": "1d41d092-6c56-48fa-a759-b17632aaa134"
      },
      "execution_count": 35,
      "outputs": [
        {
          "output_type": "execute_result",
          "data": {
            "text/plain": [
              "['X',\n",
              " 'love',\n",
              " 'meat',\n",
              " 'kebab',\n",
              " 'etc',\n",
              " '.',\n",
              " 'with',\n",
              " 'cheese',\n",
              " '.',\n",
              " 'Y',\n",
              " 'love',\n",
              " 'cheeseburger',\n",
              " '.']"
            ]
          },
          "metadata": {},
          "execution_count": 35
        }
      ]
    }
  ]
}